{
  "cells": [
    {
      "cell_type": "markdown",
      "metadata": {
        "id": "view-in-github",
        "colab_type": "text"
      },
      "source": [
        "<a href=\"https://colab.research.google.com/github/Said-Abdullahi/-Machine-Learning-Projects/blob/main/SIT720_Children%E2%80%99s_Disability_Assessment.ipynb\" target=\"_parent\"><img src=\"https://colab.research.google.com/assets/colab-badge.svg\" alt=\"Open In Colab\"/></a>"
      ]
    },
    {
      "cell_type": "code",
      "execution_count": null,
      "metadata": {
        "id": "rn_4SJiiqWeP"
      },
      "outputs": [],
      "source": [
        "# ++++++++++++++++++++++++++++++++++++++++++++++++++++++++++++++++++++++++++++++\n",
        "#  Name:Said Abdullahi\n",
        "#  SIT720:  Assessment Task 2: Problem solving task\n",
        "#  Student ID: 221377847\n",
        "# ++++++++++++++++++++++++++++++++++++++++++++++++++++++++++++++++++++++++++++++"
      ]
    },
    {
      "cell_type": "markdown",
      "metadata": {
        "id": "fAgyBmKdqWeR"
      },
      "source": [
        "**SIT720 Machine Learning:Assessment Task 2: Problem solving task.**\n",
        "\n",
        "Datafile: Download the dataset (SCADI.csv) from the [link](https://archive.ics.uci.edu/ml/datasets/SCADI).\n",
        "\n",
        "Data Description: This dataset contains 206 attributes of 70 children with physical and motor disability based on ICF-CY.\n",
        " For more information click this  [link](https://www.mdpi.com/2073-8994/11/1/89/html).\n",
        "\n",
        "Datafile:  Download the dataset (heartdisease.csv). The description of the attributes and download of the dataset can be found in this article from the [link](http://archive.ics.uci.edu/ml/datasets/Heart+Disease).\n"
      ]
    },
    {
      "cell_type": "code",
      "source": [
        "#install package\n",
        "!pip install --upgrade kneed\n",
        "!pip install pyclustering\n",
        "\n",
        "# imports\n",
        "import pandas as pd\n",
        "import numpy as np\n",
        "import matplotlib.pyplot as plt\n",
        "from sklearn.feature_selection import chi2\n",
        "from sklearn.preprocessing import StandardScaler\n",
        "from kneed import KneeLocator\n",
        "from sklearn import metrics\n",
        "from pyclustering.utils.metric import distance_metric, type_metric\n",
        "from pyclustering.cluster.center_initializer import kmeans_plusplus_initializer\n",
        "from sklearn.cluster import KMeans\n",
        "from pyclustering.cluster.kmeans import kmeans\n",
        "from sklearn.decomposition import PCA\n",
        "from sklearn.preprocessing import MinMaxScaler\n",
        "from sklearn.feature_selection import SelectKBest\n",
        "from sklearn.feature_selection import f_classif"
      ],
      "metadata": {
        "id": "_ob0SHn_bYbZ"
      },
      "execution_count": null,
      "outputs": []
    },
    {
      "cell_type": "markdown",
      "metadata": {
        "id": "7kzZPlJjqWeU"
      },
      "source": [
        "## 1.Determine the number of subgroups from the dataset using attributes 3 to 205 i.e., excluse attributes 1, 2 and 206. Is this number same as number of classes presented by attribute 206? Explain and justify your findings. (4 marks)\n"
      ]
    },
    {
      "cell_type": "markdown",
      "metadata": {
        "id": "FCz1vKYLqWeU"
      },
      "source": [
        "> # Upload the dataset"
      ]
    },
    {
      "cell_type": "code",
      "execution_count": null,
      "metadata": {
        "id": "-YtXhY2xqWeU"
      },
      "outputs": [],
      "source": [
        "# Uploads and read the data into a pandas DataFrame.\n",
        "data_file_SCADI ='/content/SCADI.csv'\n",
        "data_file_heartdisease ='/content/heartdisease.csv'\n",
        "\n",
        "#function to read the data into a pandas DataFrame.\n",
        "def upload_data(data_file):\n",
        "    '''\n",
        "    Uploads the data into a pandas DataFrame.\n",
        "    '''\n",
        "    #Making a list of missing value types\n",
        "    missing_values = [\"null\", \"nan\", \"?\", \"N/A\", \"na\", \"n/a\", \"\", \" \"]\n",
        "    df=pd.read_csv(data_file, na_values=missing_values)\n",
        "    return df\n",
        "#end of function\n",
        "\n",
        "# =====================================================================\n",
        "# function start_pipeline to call all the functions and return a copy the datadf\n",
        "def start_pipeline(df):\n",
        "    return df.copy()\n",
        "#end of function\n",
        "\n",
        "#function to dropna values from the dataframe\n",
        "def drop_na(df):\n",
        "    '''\n",
        "    Drop the rows with missing values.\n",
        "    '''\n",
        "    df.dropna(inplace=True)\n",
        "    return df"
      ]
    },
    {
      "cell_type": "code",
      "execution_count": null,
      "metadata": {
        "id": "kdCD5gJ6qWeV"
      },
      "outputs": [],
      "source": [
        "# upload and the SCADI data files into a pandas DataFrame.\n",
        "df= upload_data(data_file_SCADI)\n",
        "df.name = 'df'\n",
        "df=(upload_data(data_file_SCADI)\n",
        "                            .pipe(start_pipeline)\n",
        "                            .pipe(drop_na)\n",
        ")\n",
        "df.name = 'df'"
      ]
    },
    {
      "cell_type": "markdown",
      "metadata": {
        "id": "Dc2wVAkuqWeV"
      },
      "source": [
        "> ## Seperating Feature and Target Data Function\n",
        "\n",
        "\n",
        "\n"
      ]
    },
    {
      "cell_type": "code",
      "execution_count": null,
      "metadata": {
        "id": "4zZyh7mNqWeW"
      },
      "outputs": [],
      "source": [
        "def  get_feature_and_target(df, feature_column,target_column):\n",
        "    '''\n",
        "    Separate the features and target.\n",
        "    '''\n",
        "    # Separate the features and target\n",
        "\n",
        "    feature = feature_column\n",
        "    target = target_column\n",
        "    return feature, target\n",
        "#end of function"
      ]
    },
    {
      "cell_type": "markdown",
      "metadata": {
        "id": "wd8Vc0eNqWeW"
      },
      "source": [
        "## Getting the SCADI Features and Target/Class Data"
      ]
    },
    {
      "cell_type": "code",
      "execution_count": null,
      "metadata": {
        "id": "IT9EW3emqWeW"
      },
      "outputs": [],
      "source": [
        "#initialize the feature and target columns needed\n",
        "feature_column=df.iloc[:, 2:205]\n",
        "target_column=df['Classes']\n",
        "\n",
        "#upload data containing a separate the features and target\n",
        "SCADI_features,SCADI_target=(df.pipe(start_pipeline)\n",
        "                            .pipe(get_feature_and_target, feature_column, target_column)\n",
        ")\n",
        "SCADI_features.name = 'SCADI_features'\n",
        "SCADI_target.name = 'SCADI_target'\n"
      ]
    },
    {
      "cell_type": "markdown",
      "metadata": {
        "id": "kqcIU3MHqWeX"
      },
      "source": [
        "## Displaying head,shape of the SCADI , feature and target datasets"
      ]
    },
    {
      "cell_type": "code",
      "execution_count": null,
      "metadata": {
        "id": "pcxjS97xqWeX"
      },
      "outputs": [],
      "source": [
        "#fumction to display all the data head, tail, shape, and describe\n",
        "def display_data(df):\n",
        "    '''\n",
        "    Display the data head, tail, shape, and describe.\n",
        "    '''\n",
        "    # Display the data head, tail, shape, and describe\n",
        "    print('#'*100)\n",
        "    print(\"Displaying=>{} dataset\".format(df.name))\n",
        "    print('#'*100)\n",
        "    print('head:')\n",
        "    print(df.head(1))\n",
        "    print('#'*100)\n",
        "    print('Shape:')\n",
        "    print(df.shape)\n",
        "    print('#'*100)\n",
        "\n",
        "    #end of function\n",
        "#use the function to display the data\n",
        "display_data(df)\n",
        "display_data(SCADI_features)\n",
        "display_data(SCADI_target)"
      ]
    },
    {
      "cell_type": "markdown",
      "metadata": {
        "id": "mBSIggNWqWeY"
      },
      "source": [
        "> Getting the number different and distinct Target Classes"
      ]
    },
    {
      "cell_type": "code",
      "execution_count": null,
      "metadata": {
        "id": "jkgGgOKeqWeY",
        "outputId": "583ad8a6-9a47-4e04-8070-8382cb27df1d",
        "colab": {
          "base_uri": "https://localhost:8080/"
        }
      },
      "outputs": [
        {
          "output_type": "stream",
          "name": "stdout",
          "text": [
            "['class6' 'class2' 'class4' 'class7' 'class1' 'class5' 'class3']\n"
          ]
        }
      ],
      "source": [
        "#function get_unique_values to get the unique values of the target column with optional parameter\n",
        "\n",
        "def get_unique_values(df, column=None):\n",
        "    '''\n",
        "    Get the unique values of the target column.\n",
        "    '''\n",
        "    if column is None:\n",
        "        unique_values = df.unique()\n",
        "    else:\n",
        "        unique_values = df[column].unique()\n",
        "    return unique_values\n",
        "#end of function\n",
        "\n",
        "#get the unique values of the target column\n",
        "unique_target_classes=get_unique_values(SCADI_target)\n",
        "print(unique_target_classes)"
      ]
    },
    {
      "cell_type": "markdown",
      "metadata": {
        "id": "9ymLVWcBqWeY"
      },
      "source": [
        "# Plot the data"
      ]
    },
    {
      "cell_type": "code",
      "execution_count": null,
      "metadata": {
        "id": "nY7XfD0zqWeY",
        "outputId": "264fe195-afac-46e0-b735-e5fbfdaec676",
        "colab": {
          "base_uri": "https://localhost:8080/",
          "height": 367
        }
      },
      "outputs": [
        {
          "output_type": "stream",
          "name": "stdout",
          "text": [
            "The clasess are imbalanced, therefore if we balanced it may improve our model\n"
          ]
        },
        {
          "output_type": "display_data",
          "data": {
            "text/plain": [
              "<Figure size 504x360 with 1 Axes>"
            ],
            "image/png": "[encoded data removed]"
          },
          "metadata": {
            "needs_background": "light"
          }
        }
      ],
      "source": [
        "#function plot countplot(x='Classes', data=df) to see the distribution of the target classes\n",
        "def plot_target_classes(x='Classes', data=df):\n",
        "    '''\n",
        "    Plot the countplot(x='Classes', data=df)\n",
        "    '''\n",
        "    import seaborn as sns\n",
        "    import matplotlib.pyplot as plt\n",
        "    # Plot the class\n",
        "    f, ax = plt.subplots(figsize=(7, 5))\n",
        "    sns.countplot(x='Classes', data=df)\n",
        "    plt.title('# Class')\n",
        "    plt.xlabel('classes')\n",
        "    return\n",
        "#end of function\n",
        "\n",
        "\n",
        "#plot_target_classes to plot the target classes\n",
        "plot_target_classes(x='Classes', data=df)\n",
        "\n",
        "print('The clasess are imbalanced, therefore if we balanced it may improve our model')"
      ]
    },
    {
      "cell_type": "markdown",
      "source": [
        "# Scaled SCADI features for modelling"
      ],
      "metadata": {
        "id": "TAVToXDowDR3"
      }
    },
    {
      "cell_type": "code",
      "source": [
        "# get column names for features\n",
        "cols = [i for i in SCADI_features.columns]\n",
        "\n",
        "# feature scaling\n",
        "scaler = StandardScaler()\n",
        "scaled_features = scaler.fit_transform(SCADI_features)\n",
        "\n",
        "# convert back to dataframe\n",
        "scaled_SCADI_features = pd.DataFrame(scaled_features, columns=cols)"
      ],
      "metadata": {
        "id": "UkNF9QGOsRlG"
      },
      "execution_count": null,
      "outputs": []
    },
    {
      "cell_type": "markdown",
      "source": [
        "# Kmeans clustering model and Elbow Plot"
      ],
      "metadata": {
        "id": "H4bwDBQ5wNLb"
      }
    },
    {
      "cell_type": "code",
      "source": [
        "#Kmean model\n",
        "distortions = []\n",
        "K = range(1,22)\n",
        "for k in K:\n",
        "    kmeanModel = KMeans(n_clusters=k)\n",
        "    kmeanModel.fit(scaled_SCADI_features)\n",
        "    distortions.append(kmeanModel.inertia_)\n",
        "\n",
        "# plot the elbow graph\n",
        "plt.figure(figsize=(12,8))\n",
        "plt.title('Elbow Plot', color='gray', fontsize=18, fontweight='bold')\n",
        "plt.plot(distortions)\n",
        "plt.xlabel('No. of clusters', color='gray', fontsize=15, fontweight='bold')\n",
        "plt.ylabel('SSE', color='gray', fontsize=15, fontweight='bold')\n",
        "plt.xlim([1,22])\n",
        "plt.show()"
      ],
      "metadata": {
        "id": "9i5lkK32d24K",
        "colab": {
          "base_uri": "https://localhost:8080/",
          "height": 522
        },
        "outputId": "f3d822f7-4781-4811-89b2-8667e30a9dd9"
      },
      "execution_count": null,
      "outputs": [
        {
          "output_type": "display_data",
          "data": {
            "text/plain": [
              "<Figure size 864x576 with 1 Axes>"
            ],
            "image/png": "[encoded data removed]"
          },
          "metadata": {
            "needs_background": "light"
          }
        }
      ]
    },
    {
      "cell_type": "markdown",
      "source": [
        "# Optimal kmeans cluster"
      ],
      "metadata": {
        "id": "-SleJKd3wY-s"
      }
    },
    {
      "cell_type": "code",
      "source": [
        "from kneed import KneeLocator # used for finding the optimal value of k\n",
        "# find optimal value of k\n",
        "k = KneeLocator(range(1,22), distortions, curve='convex', direction='decreasing')\n",
        "print(f'Optimal value of k is {k.elbow}.')\n",
        "print('*'*70)\n",
        "print(f'We have {len(unique_target_classes)} classes and the optimal clusters is {k.elbow}')"
      ],
      "metadata": {
        "id": "JylLiAhWd2BI",
        "colab": {
          "base_uri": "https://localhost:8080/"
        },
        "outputId": "e0cd9e5d-a2ee-4881-e22c-f219c6e0e54b"
      },
      "execution_count": null,
      "outputs": [
        {
          "output_type": "stream",
          "name": "stdout",
          "text": [
            "Optimal value of k is 8.\n",
            "**********************************************************************\n",
            "We have 7 classes and the optimal clusters is 8\n"
          ]
        }
      ]
    },
    {
      "cell_type": "markdown",
      "source": [
        "## Is this number same as number of classes presented by attribute 206? Explain and justify your findings. In other words is the optimal cluster value the same as the number of classes/target. (See for answer below)"
      ],
      "metadata": {
        "id": "6wGSqEPBWOf4"
      }
    },
    {
      "cell_type": "markdown",
      "source": [
        "SCADI dataset classes:\n",
        "\n",
        "1. Caring for body parts problem\n",
        "2. Toileting problem\n",
        "3. Dressing problem\n",
        "4. Washing oneself and caring for body parts and dressing problem\n",
        "5. Washing oneself, caring for body parts, toileting and dressing problem\n",
        "6. Eating, Drinking, washing oneself, caring for body parts, toileting, dressing,\n",
        "looking after one’s health and looking after one’s safety problem\n",
        "7. No Problem\n",
        "\n",
        "SCADI dataset has 7 classes, and we get smaller optimal clusters. It is not the same. The justification for the difference might be that two of the classes might be closely related and thus grouped together. It could also be that one of the classes is being grouped into different clusters. For example, class 5 can be divided into different groups."
      ],
      "metadata": {
        "id": "kd8xVQPhWUoh"
      }
    },
    {
      "cell_type": "markdown",
      "source": [
        "## 2. For the dataset (SCADI.csv), perform PCA.\n"
      ],
      "metadata": {
        "id": "VrwToJgtPYD4"
      }
    },
    {
      "cell_type": "markdown",
      "source": [
        "## a. plot the captured variance with respect to increasing latent dimensionality. (2.5 marks)"
      ],
      "metadata": {
        "id": "qMIYaOw_Pxot"
      }
    },
    {
      "cell_type": "code",
      "source": [
        "#Import PCA\n",
        "from sklearn.decomposition import PCA\n",
        "import matplotlib.pyplot as plt\n",
        "pca=PCA()\n",
        "pca.n_components=70\n",
        "pca_data=pca.fit_transform(SCADI_features, SCADI_target)\n",
        "percentage_var_explained = pca.explained_variance_ratio_;\n",
        "cum_var_explained=np.cumsum(percentage_var_explained)\n",
        "#plot PCA\n",
        "plt.figure(1,figsize=(6,4))\n",
        "plt.clf()\n",
        "plt.plot(cum_var_explained,linewidth=2)\n",
        "plt.axis('tight')\n",
        "plt.grid()\n",
        "plt.xlabel('n_components')\n",
        "plt.ylabel('Cumulative_Variance_explained')\n",
        "plt.show()"
      ],
      "metadata": {
        "colab": {
          "base_uri": "https://localhost:8080/",
          "height": 280
        },
        "id": "Vr1PTSsQPwBo",
        "outputId": "c2bd4554-e45d-49e1-cf6d-1244a0748451"
      },
      "execution_count": null,
      "outputs": [
        {
          "output_type": "display_data",
          "data": {
            "text/plain": [
              "<Figure size 432x288 with 1 Axes>"
            ],
            "image/png": "[encoded data removed]"
          },
          "metadata": {
            "needs_background": "light"
          }
        }
      ]
    },
    {
      "cell_type": "markdown",
      "source": [
        "## i. at least 89% variance?"
      ],
      "metadata": {
        "id": "TSLwI8csRcU7"
      }
    },
    {
      "cell_type": "code",
      "source": [
        "#The minimum dimensions captures 89% variance\n",
        "pca=PCA(0.89)\n",
        "pca.fit(SCADI_features, SCADI_target)\n",
        "print('Number of components to explain 89% Variance is',pca.n_components_)"
      ],
      "metadata": {
        "colab": {
          "base_uri": "https://localhost:8080/"
        },
        "id": "M9sakkICQsgm",
        "outputId": "2914e766-804d-4aec-dfdc-77e1e315434f"
      },
      "execution_count": null,
      "outputs": [
        {
          "output_type": "stream",
          "name": "stdout",
          "text": [
            "Number of components to explain 89% Variance is 19\n"
          ]
        }
      ]
    },
    {
      "cell_type": "markdown",
      "source": [
        "## ii. at least 99% variance?"
      ],
      "metadata": {
        "id": "AJJgBATjRAuz"
      }
    },
    {
      "cell_type": "code",
      "source": [
        "#The minimum dimensions captures 99% variance\n",
        "pca=PCA(0.99)\n",
        "pca.fit(SCADI_features, SCADI_target)\n",
        "print('Number of components to explain 99% Variance is',pca.n_components_)"
      ],
      "metadata": {
        "colab": {
          "base_uri": "https://localhost:8080/"
        },
        "id": "YXCUY5TDQ6rj",
        "outputId": "b432fa7d-63eb-4ccb-9d30-d9c8faf10852"
      },
      "execution_count": null,
      "outputs": [
        {
          "output_type": "stream",
          "name": "stdout",
          "text": [
            "Number of components to explain 99% Variance is 43\n"
          ]
        }
      ]
    },
    {
      "cell_type": "markdown",
      "source": [
        "3. Determine the purity of clusters formed by the number of principal components which captured 89% and 99% variances respectively. Plot a line graph of the purity scores against the captured variances. Discuss your findings. (7.5 marks)"
      ],
      "metadata": {
        "id": "coPe6D21Rn9C"
      }
    },
    {
      "cell_type": "code",
      "source": [
        "# no of componetent and its variances stored\n",
        "variances = []\n",
        "varlist_89 = []\n",
        "varlist_99 = []\n",
        "\n",
        "# Create variance list\n",
        "cumulative_variance = np.cumsum(pca.explained_variance_ratio_)\n",
        "for component, variance in enumerate(cumulative_variance.tolist()):\n",
        "    variances.append((component+1, variance))\n",
        "    if variance >= 0.89:\n",
        "        varlist_89.append((component+1, variance)) # +1 because first component is 0\n",
        "    if variance >=0.99:\n",
        "        varlist_99.append((component+1, variance))\n",
        "    else:\n",
        "        continue\n",
        "\n",
        "# Create function for kmean and purity scores\n",
        "def get_kmeans_purity(features, target, n_component):\n",
        "    # principal component\n",
        "    pca  = PCA(n_components=n_component)\n",
        "    pca = pca.fit_transform(features,target)\n",
        "    # column names\n",
        "    cols = ['component_'+ str(i) for i in range(1, n_component+1)]\n",
        "    pca_df = pd.DataFrame(pca, columns=cols)\n",
        "    print(f'PCA dataframe for {n_component} components:\\n{pca_df}')\n",
        "\n",
        "    # purity scores\n",
        "    purity_scores = []\n",
        "\n",
        "    # kmeans cluster of 1 to 40\n",
        "    for i in range(1,41):\n",
        "        kmeans = KMeans(n_clusters=i, init='random', n_init=10, max_iter=300, random_state=100)\n",
        "        kmeans.fit(pca_df)\n",
        "        cluster = kmeans.labels_\n",
        "        # purity function\n",
        "        def purity_score(target, cluster):\n",
        "            # confusion matrix\n",
        "            confusion_matrix = metrics.cluster.contingency_matrix(target, cluster)\n",
        "\n",
        "            return np.sum(np.amax(confusion_matrix, axis=0)) / np.sum(confusion_matrix)\n",
        "        purity = purity_score(target, cluster)\n",
        "        purity_scores.append((i, purity))\n",
        "    return purity_scores"
      ],
      "metadata": {
        "id": "d4wlmWqoWIm7"
      },
      "execution_count": null,
      "outputs": []
    },
    {
      "cell_type": "code",
      "source": [
        "# no of components and purity with cluster for 89% variance\n",
        "purity_89 = get_kmeans_purity(SCADI_features, SCADI_target, varlist_89[0][0])\n",
        "print(purity_89)\n",
        "print('Variance of 89%')\n",
        "for cluster, purity in purity_89:\n",
        "    print(f'Cluster {cluster}: Purity is {purity:.2f}')"
      ],
      "metadata": {
        "id": "l0PYuaMWidpH"
      },
      "execution_count": null,
      "outputs": []
    },
    {
      "cell_type": "code",
      "source": [
        "# no of components and purity with cluster for 99% variance\n",
        "purity_99 = get_kmeans_purity(SCADI_features, SCADI_target, varlist_99[0][0])\n",
        "print(purity_99)\n",
        "print('Variance of 99%')\n",
        "for cluster, purity in purity_99:\n",
        "    print(f'Cluster {cluster}: Purity is {purity:.2f}')"
      ],
      "metadata": {
        "id": "dH6U5ivFm-n4"
      },
      "execution_count": null,
      "outputs": []
    },
    {
      "cell_type": "code",
      "source": [
        "# plot graph for variance of at least 89%\n",
        "plt.figure(figsize=(12,8))\n",
        "plt.title('Purity Score vs. Clusters for 89', fontsize=16, fontweight='bold')\n",
        "plt.xlabel('Clusters', fontsize=14, fontweight='bold')\n",
        "plt.ylabel('Purity Scores', fontsize=14, fontweight='bold')\n",
        "plt.plot([i[0] for i in purity_89], [i[1] for i in purity_89], marker='*', color='blue', label='at least 89',  linestyle='--')\n",
        "plt.ylim([0,1])\n",
        "plt.legend()\n",
        "plt.show()\n"
      ],
      "metadata": {
        "colab": {
          "base_uri": "https://localhost:8080/",
          "height": 519
        },
        "id": "HBW2X5HMhpJd",
        "outputId": "3f052934-7482-446f-8110-c5327d4a4053"
      },
      "execution_count": null,
      "outputs": [
        {
          "output_type": "display_data",
          "data": {
            "text/plain": [
              "<Figure size 864x576 with 1 Axes>"
            ],
            "image/png": "[encoded data removed]"
          },
          "metadata": {
            "needs_background": "light"
          }
        }
      ]
    },
    {
      "cell_type": "markdown",
      "source": [
        "Discussion: At 89% variance the purity is increasing from 1 to about 5 clusters and than it is increase at a diminishing rate. From 30 cluster there is no increase in purity score."
      ],
      "metadata": {
        "id": "fWhUvnEypAE0"
      }
    },
    {
      "cell_type": "code",
      "source": [
        "# plot graph for variance of at least 99%\n",
        "plt.figure(figsize=(12,8))\n",
        "plt.title('Purity Score vs. Clusters for 99', fontsize=16, fontweight='bold')\n",
        "plt.xlabel('Clusters', fontsize=14, fontweight='bold')\n",
        "plt.ylabel('Purity Scores', fontsize=14, fontweight='bold')\n",
        "plt.plot([i[0] for i in purity_99], [i[1] for i in purity_99], marker='*', color='red', label='at least 99', linestyle='--')\n",
        "plt.ylim([0,1])\n",
        "plt.legend()\n",
        "plt.show()"
      ],
      "metadata": {
        "colab": {
          "base_uri": "https://localhost:8080/",
          "height": 519
        },
        "id": "Fql637qyo2-i",
        "outputId": "fd705f2a-f6c7-457c-90d8-0c8bfbf7a903"
      },
      "execution_count": null,
      "outputs": [
        {
          "output_type": "display_data",
          "data": {
            "text/plain": [
              "<Figure size 864x576 with 1 Axes>"
            ],
            "image/png": "[encoded data removed]"
          },
          "metadata": {
            "needs_background": "light"
          }
        }
      ]
    },
    {
      "cell_type": "markdown",
      "source": [
        "Discussion: At 99% variance the purity scores seem similar. however it get flat later at 35 clusters."
      ],
      "metadata": {
        "id": "wB4fJ6Zqpnw6"
      }
    },
    {
      "cell_type": "markdown",
      "source": [
        "## 4. Let's assume you have two datasets one is linear, and another is curved structural data.\n",
        "## a. Can we apply PCA on these datasets? Justify your answer. (2.5 marks) (See for answer below)"
      ],
      "metadata": {
        "id": "0pRBAUwITver"
      }
    },
    {
      "cell_type": "markdown",
      "source": [
        "PCA is used on linear datasets only. PCA does a linear transformation on the features where it tries to maximise variance among the linear combinations. However, for curved structural datasets (non-linear) it may not be wise to use PCA. There is other techniques like Kernel Principal Components, Isometric feature mapping, local linear embedding, and local multi-dimensional Scaling (MDS)\n",
        "\n",
        "see: https://scikit-learn.org/stable/modules/decomposition.html\n",
        "\n",
        "see: https://scikit-learn.org/stable/modules/manifold.html"
      ],
      "metadata": {
        "id": "NapAYgtST9pK"
      }
    },
    {
      "cell_type": "markdown",
      "source": [
        "# 5. Download the attached heartdisease.csv file. Read the file and separate the class and feature matrix. (2 marks)"
      ],
      "metadata": {
        "id": "SQGVJhMHd68f"
      }
    },
    {
      "cell_type": "markdown",
      "source": [
        "> # Upload the dataset"
      ],
      "metadata": {
        "id": "dLQsctd-hbjP"
      }
    },
    {
      "cell_type": "code",
      "source": [
        "#function to dropna values from the dataframe\n",
        "def drop_na(df):\n",
        "    '''\n",
        "    Drop the rows with missing values.\n",
        "    '''\n",
        "    df.dropna(inplace=True)\n",
        "    return df"
      ],
      "metadata": {
        "id": "neoLCVWP0nXR"
      },
      "execution_count": null,
      "outputs": []
    },
    {
      "cell_type": "code",
      "source": [
        "\n",
        "#upload data containing full dataset and dropna values\n",
        "print(\"uploading data from {}\".format(data_file_heartdisease))\n",
        "df_heart=(upload_data(data_file_heartdisease )\n",
        "    .pipe(drop_na)\n",
        "        )\n",
        "df_heart.name = 'df_heart'"
      ],
      "metadata": {
        "colab": {
          "base_uri": "https://localhost:8080/"
        },
        "id": "L31HYwnYeFwn",
        "outputId": "fb5480bb-3898-4313-f72c-571391c7f2ac"
      },
      "execution_count": null,
      "outputs": [
        {
          "output_type": "stream",
          "name": "stdout",
          "text": [
            "uploading data from /content/heartdisease.csv\n"
          ]
        }
      ]
    },
    {
      "cell_type": "markdown",
      "source": [
        "## Seperating Feature and Target Data Function"
      ],
      "metadata": {
        "id": "pyDZXoPzisqW"
      }
    },
    {
      "cell_type": "code",
      "source": [
        "#initialize the feature and target columns needed\n",
        "heart_features_column = df_heart.drop('num', axis=1)\n",
        "heart_target_column = df_heart['num']\n",
        "\n",
        "\n",
        "\n",
        "#upload data containing a separate the features and target\n",
        "heart_features,heart_target=(df_heart.pipe(start_pipeline)\n",
        "                            .pipe(get_feature_and_target, heart_features_column, heart_target_column)\n",
        ")\n",
        "\n",
        "heart_features.name = 'heart_features'\n",
        "heart_target.name = 'heart_target'"
      ],
      "metadata": {
        "id": "OkZ5FHOJiY-c"
      },
      "execution_count": null,
      "outputs": []
    },
    {
      "cell_type": "markdown",
      "source": [
        "## Getting the HEART Features and HEART Target/Class Data"
      ],
      "metadata": {
        "id": "BazpYoctjekQ"
      }
    },
    {
      "cell_type": "code",
      "source": [
        "#display the data\n",
        "display_data(df_heart)\n",
        "display_data(heart_features)\n",
        "display_data(heart_target)"
      ],
      "metadata": {
        "id": "ItFAKexIjpKK"
      },
      "execution_count": null,
      "outputs": []
    },
    {
      "cell_type": "markdown",
      "source": [
        "## Plot the data"
      ],
      "metadata": {
        "id": "uIVlCuHNmndb"
      }
    },
    {
      "cell_type": "code",
      "source": [
        "#function plot countplot(x='Classes', data=df) to see the distribution of the target classes\n",
        "def plot_target_classes(x='num', data=df_heart):\n",
        "    '''\n",
        "    Plot the countplot(x='num', data=df_heart)\n",
        "    '''\n",
        "    import seaborn as sns\n",
        "    import matplotlib.pyplot as plt\n",
        "    # Plot the class\n",
        "    f, ax = plt.subplots(figsize=(7, 5))\n",
        "    sns.countplot(x='num', data=df_heart)\n",
        "    plt.title('# Class')\n",
        "    plt.xlabel('classes')\n",
        "    return\n",
        "#end of function\n",
        "\n",
        "\n",
        "#plot_target_classes\n",
        "plot_target_classes(x='num', data=df_heart)\n",
        "\n",
        "print('The clasess are imbalanced, therefore if we balance data it may improve our model')"
      ],
      "metadata": {
        "colab": {
          "base_uri": "https://localhost:8080/",
          "height": 367
        },
        "id": "aHq9DJVpmm_-",
        "outputId": "aae499eb-50de-4cf8-89ad-944ac14adb1b"
      },
      "execution_count": null,
      "outputs": [
        {
          "output_type": "stream",
          "name": "stdout",
          "text": [
            "The clasess are imbalanced, therefore if we balance data it may improve our model\n"
          ]
        },
        {
          "output_type": "display_data",
          "data": {
            "text/plain": [
              "<Figure size 504x360 with 1 Axes>"
            ],
            "image/png": "[encoded data removed]"
          },
          "metadata": {
            "needs_background": "light"
          }
        }
      ]
    },
    {
      "cell_type": "code",
      "source": [
        "# The class has an imbalance\n",
        "# We group 1,2,3,4 together, so we only have two classes\n",
        "heart_target_2 = heart_target.replace([2, 3, 4], 1)\n",
        "print('The classes are:\\n', heart_target_2.unique())"
      ],
      "metadata": {
        "colab": {
          "base_uri": "https://localhost:8080/"
        },
        "id": "xgoKJAJmoZzD",
        "outputId": "cafaed6c-01e7-4058-bdbf-0677e878b82e"
      },
      "execution_count": null,
      "outputs": [
        {
          "output_type": "stream",
          "name": "stdout",
          "text": [
            "The classes are:\n",
            " [0 1]\n"
          ]
        }
      ]
    },
    {
      "cell_type": "markdown",
      "source": [
        "6. Determine the number of clusters from the dataset. Is this same as the actual number of classes in the dataset? (1 marks)"
      ],
      "metadata": {
        "id": "bnN5bTqJlm0n"
      }
    },
    {
      "cell_type": "markdown",
      "source": [
        "## Scaled feature"
      ],
      "metadata": {
        "id": "J6I5qZTbr2xx"
      }
    },
    {
      "cell_type": "code",
      "source": [
        "\n",
        "# check unique class\n",
        "unique_heart = df_heart['num'].unique()\n",
        "\n",
        "# get column names for features\n",
        "cols = [i for i in heart_features.columns]\n",
        "\n",
        "# Function for scaling features\n",
        "\n",
        "def scale(features):\n",
        "\n",
        "    scaler = MinMaxScaler()\n",
        "    features = scaler.fit_transform(heart_features)\n",
        "    return features\n",
        "\n",
        "# scale features\n",
        "scaled_features = scale(heart_features)\n",
        "\n",
        "# convert back to dataframe\n",
        "heart_features = pd.DataFrame(scaled_features, columns=cols)"
      ],
      "metadata": {
        "id": "qjixc_is3940"
      },
      "execution_count": null,
      "outputs": []
    },
    {
      "cell_type": "markdown",
      "source": [
        "## Kmeans clustering and optimal cluster"
      ],
      "metadata": {
        "id": "Sd6l4n5B5VGc"
      }
    },
    {
      "cell_type": "code",
      "source": [
        "#function to find the optimal k value for kmeans\n",
        "def find_optimal_k(scaled_features,target):\n",
        "    '''\n",
        "    Find the optimal k value for kmeans.\n",
        "    '''\n",
        "\n",
        "    distortions = []\n",
        "    # Create a KMeans model with 2 clusters\n",
        "    from sklearn.cluster import KMeans\n",
        "    #create a loop of kmeans = KMeans(n_clusters=i)\n",
        "\n",
        "    for k in range(2,21):\n",
        "        kmeans = KMeans(n_clusters=k, init='random', n_init=10, max_iter=200, random_state=100)\n",
        "        # Fit the model using the scaled features\n",
        "        kmeans.fit(scaled_features)\n",
        "\n",
        "        # Append the sum of squared distances of samples to their closest cluster center.\n",
        "        distortions.append(kmeans.inertia_)\n",
        "\n",
        "\n",
        "    return distortions\n",
        "#end of function\n",
        "\n",
        "#function to return the optimal k value using kneed package\n",
        "def find_optimal_k_kneed(distortions):\n",
        "    '''\n",
        "    Find the optimal k value for kmeans.\n",
        "    '''\n",
        "    # Create a Knee Curve\n",
        "\n",
        "    from kneed import KneeLocator # used for finding the optimal value of k\n",
        "    # Create a KneeLocator object\n",
        "    kn = KneeLocator(range(2,21), distortions, curve='convex', direction='decreasing')\n",
        "    # Return the optimal K\n",
        "    return kn\n",
        "#end of function"
      ],
      "metadata": {
        "id": "D7GN5OD85UsK"
      },
      "execution_count": null,
      "outputs": []
    },
    {
      "cell_type": "markdown",
      "source": [
        "## Is this same as the actual number of classes in the dataset?"
      ],
      "metadata": {
        "id": "jmIwogkg-1WV"
      }
    },
    {
      "cell_type": "code",
      "source": [
        "#use the find optimal and kneed function to get the optimal k value\n",
        "distortions = find_optimal_k(scaled_features,heart_target)\n",
        "\n",
        "#use the function to get the optimal k value\n",
        "optimal_k = find_optimal_k_kneed(distortions)\n",
        "\n",
        "#########################################################################################################################################################################\n",
        "\n",
        "# Comparing target class of class=[1,2,3,4] and balanced class=[0,1]\n",
        "heart_target.name='heart_target'\n",
        "heart_target_2.name='heart_target_2'\n",
        "print('heart_target=>original class=[1,2,3,4]'*1)\n",
        "print('heart_target_2=>balanced class=[0,1]')\n",
        "print('*'*70)\n",
        "for target_item in [heart_target,heart_target_2]:\n",
        "    if optimal_k.elbow == len(target_item.unique()):\n",
        "        print(f'class:{target_item.name}       The optimal value of k is {optimal_k.elbow} which is the same as the number of classes of {len(target_item.unique())}')\n",
        "    elif optimal_k.elbow > len(target_item.unique()):\n",
        "        print(f'class:{target_item.name} The optimal value of k is {optimal_k.elbow} which is more than the number of classes of {len(target_item.unique())}')\n",
        "    else:\n",
        "        print(f'class:{target_item.name} The optimal value of k is {optimal_k.elbow} which is less than the number of classes of {len(target_item.unique())}')"
      ],
      "metadata": {
        "colab": {
          "base_uri": "https://localhost:8080/"
        },
        "id": "Ulr26BXX5yMq",
        "outputId": "37506b70-b2af-40fe-a1c4-202edac6adb2"
      },
      "execution_count": null,
      "outputs": [
        {
          "output_type": "stream",
          "name": "stdout",
          "text": [
            "heart_target=>original class=[1,2,3,4]\n",
            "heart_target_2=>balanced class=[0,1]\n",
            "**********************************************************************\n",
            "class:heart_target The optimal value of k is 9 which is more than the number of classes of 5\n",
            "class:heart_target_2 The optimal value of k is 9 which is more than the number of classes of 2\n"
          ]
        }
      ]
    },
    {
      "cell_type": "markdown",
      "source": [
        "7. Perform K-Means clustering on the complete dataset and report purity score. (2 marks)"
      ],
      "metadata": {
        "id": "LW5fHd5J-v8i"
      }
    },
    {
      "cell_type": "code",
      "source": [
        "from sklearn import metrics\n",
        "from pyclustering.cluster.kmeans import kmeans\n",
        "from sklearn.cluster import KMeans\n",
        "#Kmeans\n",
        "kmeanModel = KMeans(n_clusters=9, init='random', n_init=10, max_iter=200, random_state=100)\n",
        "kmeanModel.fit(heart_features)\n",
        "clusters = kmeanModel.labels_\n",
        "\n",
        "# purity evaluation\n",
        "def purity_score(Class, clusters):\n",
        "    # compute confusion matrix\n",
        "    confusion_matrix = metrics.cluster.contingency_matrix(heart_target, clusters)\n",
        "    # return purity\n",
        "    return np.sum(np.amax(confusion_matrix, axis=0)) / np.sum(confusion_matrix)\n",
        "\n",
        "print(f'Purity score for the Kmeans model is {purity_score(heart_target, clusters):.2f}')\n",
        "\n",
        "# purity evaluation\n",
        "def purity_score(Class, clusters):\n",
        "    # compute confusion matrix\n",
        "    confusion_matrix = metrics.cluster.contingency_matrix(heart_target_2, clusters)\n",
        "    # return purity\n",
        "    return np.sum(np.amax(confusion_matrix, axis=0)) / np.sum(confusion_matrix)\n",
        "\n",
        "print('*'*80)\n",
        "print('I run the Kmeans model with 5 classess [0,1] the purity score is lower')\n",
        "print(f'Purity score for the Kmeans model is {purity_score(heart_target_2, clusters):.2f}')"
      ],
      "metadata": {
        "colab": {
          "base_uri": "https://localhost:8080/"
        },
        "id": "OTGUovDs-vh9",
        "outputId": "cad937be-3167-465e-d65c-cfd48731b4fb"
      },
      "execution_count": null,
      "outputs": [
        {
          "output_type": "stream",
          "name": "stdout",
          "text": [
            "Purity score for the Kmeans model is 0.57\n",
            "********************************************************************************\n",
            "I run the Kmeans model with 5 classess [0,1] the purity score is lower\n",
            "Purity score for the Kmeans model is 0.79\n"
          ]
        }
      ]
    },
    {
      "cell_type": "markdown",
      "source": [
        "8. There are several distance metrics for K-Means such as euclidean, squared euclidean, Manhattan,\n",
        "Chebyshev, Minkowski. [ Hints: See the pyclustering library for python.]"
      ],
      "metadata": {
        "id": "vyDPwd0jTiqi"
      }
    },
    {
      "cell_type": "code",
      "source": [
        "from pyclustering.cluster.encoder import type_encoding, cluster_encoder\n",
        "# define dictionary for distance measures\n",
        "distance_measures = {'euclidean': 0, 'squared euclidean': 1, 'manhattan': 2, 'chebyshev': 3,\n",
        "                    'canberra': 5, 'chi-square': 6}\n",
        "# function defined to compute purity score using pyclustering for various distance measures\n",
        "def pyPurity(dist_measure):\n",
        "    initial_centers = (kmeans_plusplus_initializer(heart_features, 9, random_state=5).initialize())\n",
        "    # instance created for respective distance metric\n",
        "    instanceKm = kmeans(heart_features, initial_centers=initial_centers, metric=distance_metric(dist_measure))\n",
        "    # perform cluster analysis\n",
        "    instanceKm.process()\n",
        "    # cluster analysis results - clusters and centers\n",
        "    pyClusters = instanceKm.get_clusters()\n",
        "    pyCenters = instanceKm.get_centers()\n",
        "    # enumerate encoding type to index labeling to get labels\n",
        "    pyEncoding = instanceKm.get_cluster_encoding()\n",
        "    pyEncoder = cluster_encoder(pyEncoding, pyClusters, heart_features)\n",
        "    pyLabels = pyEncoder.set_encoding(0).get_clusters()\n",
        "    # function purity score is defined in previous section\n",
        "    return purity_score(heart_target_2, pyLabels)\n",
        "\n",
        "# print results\n",
        "for measure, value in distance_measures.items():\n",
        "    print(f\"The purity score for {measure} distance is {round(pyPurity(value)*100, 2)}%\")\n",
        ""
      ],
      "metadata": {
        "colab": {
          "base_uri": "https://localhost:8080/"
        },
        "id": "igAnaYee9gQX",
        "outputId": "89c2aa6f-cb0f-4b25-93b1-61df8e11a393"
      },
      "execution_count": null,
      "outputs": [
        {
          "output_type": "stream",
          "name": "stdout",
          "text": [
            "The purity score for euclidean distance is 76.43%\n",
            "The purity score for squared euclidean distance is 76.43%\n",
            "The purity score for manhattan distance is 79.8%\n",
            "The purity score for chebyshev distance is 60.61%\n",
            "The purity score for canberra distance is 74.41%\n",
            "The purity score for chi-square distance is 79.12%\n"
          ]
        }
      ]
    },
    {
      "cell_type": "markdown",
      "source": [
        "# b. Select the best distance metric and explain why this distance metric is best for the given dataset. (2 marks) (See Answer below)"
      ],
      "metadata": {
        "id": "B4jO0m_5C1r-"
      }
    },
    {
      "cell_type": "markdown",
      "source": [
        "Our best distance metric is cityblock/manhattan distance which has a purity score of 79.8%.\n",
        "\n",
        "Our dataset has high dimensionality which is why manhattan distance is best.\n",
        "\n",
        "The manhattan distance is the sum of the absolute difference between points across all dimensions. Aggarwal et al. (2001) have viewed the dimensional curse through distance metrics and conclude that manhattan distance metric is preffered over euclidean distance metric. This is reconfirmed by (Suwanda et al., 2019). They do an analysis euclidean distance and manhattan distance testing variation across a number of centroids for kmeans.\n",
        "\n",
        "Reference:\n",
        "\n",
        "Aggarwal1, C. C., Hinneburg, A., and Keim, A. D. (2001). On the\n",
        "    Surprising Behavior of Distance Metrics in High Dimensional Space.\n",
        "    J. Van den Bussche and V. Vianu (Eds.): ICDT 2001, LNCS 1973,\n",
        "    pp. 420–434, 2001.\n",
        "\n",
        "Suwanda, R., Syahputra, Z., & Zamzami, M. E. (2019). Analysis of\n",
        "    Euclidean Distance and Manhattan Distance in the K-Means Algorithm\n",
        "    for Variations Number of Centroid K. IOP Publishing Journal of\n",
        "    Physics, 566 (2020) 012058, doi:10.1088/1742-6596/1566/1/012058\n",
        "\n"
      ],
      "metadata": {
        "id": "D01p-ft2C66K"
      }
    },
    {
      "cell_type": "markdown",
      "source": [
        "# 9. Use selection criteria (ANOVA, Chi-squared) to select best three features and use them for K-Means clustering. Based on the purity score which feature set are you going to recommend and why? (3 marks) (you can explore sklearn.feature_selection library for Python.)"
      ],
      "metadata": {
        "id": "A3JFT8KMd1nk"
      }
    },
    {
      "cell_type": "code",
      "source": [
        "# Anova and Ch-squared to select best three features\n",
        "Anova = SelectKBest(f_classif, k=3).fit_transform(heart_features, heart_target_2)\n",
        "Chi = SelectKBest(chi2, k=3).fit_transform(heart_features, heart_target_2)\n",
        "\n",
        "#Print the best three features for both Anova and Chi-squared\n",
        "print(heart_features)\n",
        "print('*'*50)\n",
        "print('The best three features for Anova are: oldspeak, ca, and thal')\n",
        "print(Anova[0:3, :])\n",
        "print('*'*50)\n",
        "print('The best three features for Chi-squared are: exang, ca, and thal')\n",
        "print(Chi[0:4, :])"
      ],
      "metadata": {
        "id": "44KB3x6md2v_",
        "colab": {
          "base_uri": "https://localhost:8080/"
        },
        "outputId": "1e36743f-371f-49e4-b302-058474292b5d"
      },
      "execution_count": null,
      "outputs": [
        {
          "output_type": "stream",
          "name": "stdout",
          "text": [
            "          Age  Sex  chest pain type  Trestbps      chol  fbs  restecg  \\\n",
            "0    0.708333  1.0         0.000000  0.481132  0.244292  1.0      1.0   \n",
            "1    0.791667  1.0         1.000000  0.622642  0.365297  0.0      1.0   \n",
            "2    0.791667  1.0         1.000000  0.245283  0.235160  0.0      1.0   \n",
            "3    0.166667  1.0         0.666667  0.339623  0.283105  0.0      0.0   \n",
            "4    0.250000  0.0         0.333333  0.339623  0.178082  0.0      1.0   \n",
            "..        ...  ...              ...       ...       ...  ...      ...   \n",
            "292  0.583333  0.0         1.000000  0.433962  0.262557  0.0      0.0   \n",
            "293  0.333333  1.0         0.000000  0.150943  0.315068  0.0      0.0   \n",
            "294  0.812500  1.0         1.000000  0.471698  0.152968  1.0      0.0   \n",
            "295  0.583333  1.0         1.000000  0.339623  0.011416  0.0      0.0   \n",
            "296  0.583333  0.0         0.333333  0.339623  0.251142  0.0      1.0   \n",
            "\n",
            "      thalach  exang   oldpeak  slope        ca  thal  \n",
            "0    0.603053    0.0  0.370968    1.0  0.000000  0.75  \n",
            "1    0.282443    1.0  0.241935    0.5  1.000000  0.00  \n",
            "2    0.442748    1.0  0.419355    0.5  0.666667  1.00  \n",
            "3    0.885496    0.0  0.564516    1.0  0.000000  0.00  \n",
            "4    0.770992    0.0  0.225806    0.0  0.000000  0.00  \n",
            "..        ...    ...       ...    ...       ...   ...  \n",
            "292  0.396947    1.0  0.032258    0.5  0.000000  1.00  \n",
            "293  0.465649    0.0  0.193548    0.5  0.000000  1.00  \n",
            "294  0.534351    0.0  0.548387    0.5  0.666667  1.00  \n",
            "295  0.335878    1.0  0.193548    0.5  0.333333  1.00  \n",
            "296  0.786260    0.0  0.000000    0.5  0.333333  0.00  \n",
            "\n",
            "[297 rows x 13 columns]\n",
            "**************************************************\n",
            "The best three features for Anova are: oldspeak, ca, and thal\n",
            "[[0.37096774 0.         0.75      ]\n",
            " [0.24193548 1.         0.        ]\n",
            " [0.41935484 0.66666667 1.        ]]\n",
            "**************************************************\n",
            "The best three features for Chi-squared are: exang, ca, and thal\n",
            "[[0.         0.         0.75      ]\n",
            " [1.         1.         0.        ]\n",
            " [1.         0.66666667 1.        ]\n",
            " [0.         0.         0.        ]]\n"
          ]
        }
      ]
    },
    {
      "cell_type": "code",
      "source": [
        "#Kmean clustering using Anova\n",
        "kmeanModel.fit(Anova, heart_target_2)\n",
        "clusters_anova = kmeanModel.labels_\n",
        "\n",
        "# purity evaluation for Anova\n",
        "def purity_score(Class, clusters_anova):\n",
        "    # compute confusion matrix\n",
        "    confusion_matrix = metrics.cluster.contingency_matrix(heart_target_2, clusters_anova)\n",
        "    # return purity\n",
        "    return np.sum(np.amax(confusion_matrix, axis=0)) / np.sum(confusion_matrix)\n",
        "\n",
        "print(f'Purity score for Anova is {purity_score(heart_target_2, clusters_anova):.2f}')"
      ],
      "metadata": {
        "colab": {
          "base_uri": "https://localhost:8080/"
        },
        "id": "52k3iWCHqki6",
        "outputId": "0e71dcbd-6c86-46ab-8b3c-b46ee6fb98b2"
      },
      "execution_count": null,
      "outputs": [
        {
          "output_type": "stream",
          "name": "stdout",
          "text": [
            "Purity score for Anova is 0.79\n"
          ]
        }
      ]
    },
    {
      "cell_type": "code",
      "source": [
        "#Kmean clustering using Anova\n",
        "kmeanModel.fit(Chi, heart_target_2)\n",
        "clusters_chi = kmeanModel.labels_\n",
        "\n",
        "# purity evaluation\n",
        "def purity_score(Class, clusters_chi):\n",
        "    # compute confusion matrix\n",
        "    confusion_matrix = metrics.cluster.contingency_matrix(heart_target_2, clusters_chi)\n",
        "    # return purity\n",
        "    return np.sum(np.amax(confusion_matrix, axis=0)) / np.sum(confusion_matrix)\n",
        "\n",
        "print(f'Purity score is {purity_score(heart_target_2, clusters_chi):.2f}')"
      ],
      "metadata": {
        "colab": {
          "base_uri": "https://localhost:8080/"
        },
        "id": "_T-n8gCVq2cj",
        "outputId": "14ab835f-f159-41bc-c408-9898295dc4ea"
      },
      "execution_count": null,
      "outputs": [
        {
          "output_type": "stream",
          "name": "stdout",
          "text": [
            "Purity score is 0.82\n"
          ]
        }
      ]
    },
    {
      "cell_type": "markdown",
      "source": [
        "## Based on the purity score which feature set are you going to recommend and why? (See Answer below)"
      ],
      "metadata": {
        "id": "Uxf34InkZiCw"
      }
    },
    {
      "cell_type": "markdown",
      "source": [
        "We get a higher purity score for the Chi-square test than the Anova.\n",
        "\n",
        "The basic rule of thumb for when to use Anova or Chi-square tests. We use Chi-square when all variable are categorical. We use Anova if we have at least one continuous and categorical variable. Giving that the purity is the same we use Anova features. Our dataset has mostly categorical variables therefore Chi-square test would be better."
      ],
      "metadata": {
        "id": "9-0xlHWaZpbL"
      }
    },
    {
      "cell_type": "markdown",
      "source": [
        "# 10. Create a ML model for classifying subjects into two classes applying following constraints on above dataset."
      ],
      "metadata": {
        "id": "io8KSBdFrkbt"
      }
    },
    {
      "cell_type": "code",
      "source": [
        "#Import packages\n",
        "from sklearn.model_selection import train_test_split\n",
        "from sklearn.linear_model import LogisticRegression\n",
        "from sklearn.metrics import confusion_matrix\n",
        "from sklearn.metrics import recall_score\n",
        "from sklearn.metrics import precision_score\n",
        "from sklearn.metrics import f1_score\n",
        "from sklearn.metrics import accuracy_score\n",
        "from sklearn.metrics import plot_confusion_matrix"
      ],
      "metadata": {
        "id": "9p0LB1tkrkAY"
      },
      "execution_count": null,
      "outputs": []
    },
    {
      "cell_type": "code",
      "source": [
        "#Split data into training data and test data\n",
        "X_train,X_test,Y_train,Y_test = train_test_split(heart_features,heart_target_2,test_size=0.3,random_state=0)\n",
        "\n",
        "#check for distribution of target\n",
        "print(Y_train.value_counts(normalize=True))\n",
        "print(Y_train.value_counts())\n",
        "print('*'*50)\n",
        "print(Y_test.value_counts(normalize=True))\n",
        "print(Y_test.value_counts())\n",
        "print('*'*50)\n",
        "print('We dedicate 30% of the initial data to test data and 70% is for training data to train the model')"
      ],
      "metadata": {
        "colab": {
          "base_uri": "https://localhost:8080/"
        },
        "id": "z2_piGph0MW-",
        "outputId": "b0a53981-4bd7-46b1-d2a3-f69dde468f3f"
      },
      "execution_count": null,
      "outputs": [
        {
          "output_type": "stream",
          "name": "stdout",
          "text": [
            "0    0.541063\n",
            "1    0.458937\n",
            "Name: heart_target_2, dtype: float64\n",
            "0    112\n",
            "1     95\n",
            "Name: heart_target_2, dtype: int64\n",
            "**************************************************\n",
            "0    0.533333\n",
            "1    0.466667\n",
            "Name: heart_target_2, dtype: float64\n",
            "0    48\n",
            "1    42\n",
            "Name: heart_target_2, dtype: int64\n",
            "**************************************************\n",
            "We dedicate 30% of the initial data to test data and 70% is for training data to train the model\n"
          ]
        }
      ]
    },
    {
      "cell_type": "markdown",
      "source": [
        "## Classification: Logistic Regression model"
      ],
      "metadata": {
        "id": "ymQZ_p5w2A6r"
      }
    },
    {
      "cell_type": "code",
      "source": [
        "# We train logistic regression model\n",
        "logistic = LogisticRegression(solver='liblinear', random_state=0)\n",
        "logistic.fit(X_train,Y_train)\n",
        "Y_test_pred = logistic.predict(X_test)\n",
        "Y_train_pred = logistic.predict(X_train)"
      ],
      "metadata": {
        "id": "byHv_AIg0fEV"
      },
      "execution_count": null,
      "outputs": []
    },
    {
      "cell_type": "markdown",
      "source": [
        "a. Report classification performance scores. Select scores that you think best for describing the model performance with appropriate justification."
      ],
      "metadata": {
        "id": "sZ8jvs-l2SwE"
      }
    },
    {
      "cell_type": "code",
      "source": [
        "# Evaluation metrics and accuracy score\n",
        "print('Recall Score :',recall_score(Y_test,Y_test_pred))\n",
        "print('Precision Score :',precision_score(Y_test,Y_test_pred))\n",
        "print('F1 score :',f1_score(Y_test,Y_test_pred))\n",
        "print('*'*50)\n",
        "print('Accuracy Score :',accuracy_score(Y_test,Y_test_pred))"
      ],
      "metadata": {
        "colab": {
          "base_uri": "https://localhost:8080/"
        },
        "id": "MzII5RnX2PDo",
        "outputId": "e2bc8bea-9b82-4d9d-8a8f-5e7275c646fb"
      },
      "execution_count": null,
      "outputs": [
        {
          "output_type": "stream",
          "name": "stdout",
          "text": [
            "Recall Score : 0.7857142857142857\n",
            "Precision Score : 0.8918918918918919\n",
            "F1 score : 0.8354430379746834\n",
            "**************************************************\n",
            "Accuracy Score : 0.8555555555555555\n"
          ]
        }
      ]
    },
    {
      "cell_type": "code",
      "source": [
        "from sklearn.metrics import plot_confusion_matrix\n",
        "#Plot confusion matrix\n",
        "plot_confusion_matrix(logistic, X_test, Y_test)"
      ],
      "metadata": {
        "colab": {
          "base_uri": "https://localhost:8080/",
          "height": 352
        },
        "id": "pJGQCMlM2gdt",
        "outputId": "e6fb0eac-625e-414f-e16a-d81196194552"
      },
      "execution_count": null,
      "outputs": [
        {
          "output_type": "stream",
          "name": "stderr",
          "text": [
            "/usr/local/lib/python3.7/dist-packages/sklearn/utils/deprecation.py:87: FutureWarning: Function plot_confusion_matrix is deprecated; Function `plot_confusion_matrix` is deprecated in 1.0 and will be removed in 1.2. Use one of the class methods: ConfusionMatrixDisplay.from_predictions or ConfusionMatrixDisplay.from_estimator.\n",
            "  warnings.warn(msg, category=FutureWarning)\n"
          ]
        },
        {
          "output_type": "execute_result",
          "data": {
            "text/plain": [
              "<sklearn.metrics._plot.confusion_matrix.ConfusionMatrixDisplay at 0x7f3c7039cf10>"
            ]
          },
          "metadata": {},
          "execution_count": 42
        },
        {
          "output_type": "display_data",
          "data": {
            "text/plain": [
              "<Figure size 432x288 with 2 Axes>"
            ],
            "image/png": "[encoded data removed]"
          },
          "metadata": {
            "needs_background": "light"
          }
        }
      ]
    },
    {
      "cell_type": "markdown",
      "source": [
        "\n",
        "#b. Have you taken any step to check generalisability of the model? What is that and how it ensures generalisability"
      ],
      "metadata": {
        "id": "LUYG0Hmg2myw"
      }
    },
    {
      "cell_type": "code",
      "source": [
        "# Use gridsearch\n",
        "from sklearn.model_selection import GridSearchCV\n",
        "\n",
        "# parameter grid\n",
        "parameters = {\n",
        "    'penalty' : ['l1', 'l2'],\n",
        "    'C'       : np.logspace(-3,3,7),\n",
        "    'solver'  : ['newton-cg', 'lbfgs', 'liblinear'],\n",
        "}\n",
        "\n",
        "logreg = LogisticRegression()\n",
        "clf = GridSearchCV(logreg,                       #model\n",
        "                   param_grid = parameters,      #hyperparameters\n",
        "                   scoring='accuracy',           #metric for scoring\n",
        "                   cv=5)                         #number of folds"
      ],
      "metadata": {
        "id": "NnAmrWhp2mcH"
      },
      "execution_count": null,
      "outputs": []
    },
    {
      "cell_type": "code",
      "source": [
        "from sklearn.linear_model import SGDClassifier\n",
        "from sklearn.model_selection import RandomizedSearchCV\n",
        "loss = ['hinge', 'log', 'modified_huber', 'squared_hinge',\n",
        "'perceptron']\n",
        "penalty = ['l1', 'l2', 'elasticnet']\n",
        "alpha = [0.0001, 0.001, 0.01, 0.1, 1, 10, 100, 1000]\n",
        "learning_rate = ['constant', 'optimal', 'invscaling', 'adaptive']\n",
        "class_weight = [{1:0.5, 0:0.5}, {1:0.4, 0:0.6}, {1:0.6, 0:0.4}, {1:0.7, 0:0.3}]\n",
        "eta0 = [1, 10, 100]\n",
        "param_distributions = dict(loss=loss,\n",
        "penalty=penalty,\n",
        "alpha=alpha,\n",
        "learning_rate=learning_rate,\n",
        "class_weight=class_weight,\n",
        "eta0=eta0)\n",
        "\n",
        "\n",
        "sgd = SGDClassifier(loss=\"hinge\", penalty=\"l2\", max_iter=5)\n",
        "random = RandomizedSearchCV(estimator=sgd,\n",
        "param_distributions=param_distributions,\n",
        "scoring='roc_auc',\n",
        "verbose=1, n_jobs=-1,\n",
        "n_iter=1000)\n",
        "random_result = random.fit(X_train, Y_train)\n",
        "print('Best Score: ', random_result.best_score_)\n",
        "print('Best Params: ', random_result.best_params_)"
      ],
      "metadata": {
        "colab": {
          "base_uri": "https://localhost:8080/"
        },
        "id": "YeIjT9443EKn",
        "outputId": "6e4ad6d5-2b07-48da-f922-6e3ecb1bcf48"
      },
      "execution_count": null,
      "outputs": [
        {
          "output_type": "stream",
          "name": "stdout",
          "text": [
            "Fitting 5 folds for each of 1000 candidates, totalling 5000 fits\n",
            "Best Score:  0.9213230705221551\n",
            "Best Params:  {'penalty': 'l1', 'loss': 'hinge', 'learning_rate': 'optimal', 'eta0': 100, 'class_weight': {1: 0.6, 0: 0.4}, 'alpha': 0.001}\n"
          ]
        },
        {
          "output_type": "stream",
          "name": "stderr",
          "text": [
            "/usr/local/lib/python3.7/dist-packages/sklearn/linear_model/_stochastic_gradient.py:700: ConvergenceWarning: Maximum number of iteration reached before convergence. Consider increasing max_iter to improve the fit.\n",
            "  ConvergenceWarning,\n"
          ]
        }
      ]
    },
    {
      "cell_type": "markdown",
      "source": [
        "# b What is that and how it ensures generalisability (See answer below)"
      ],
      "metadata": {
        "id": "YBTOnshQbry2"
      }
    },
    {
      "cell_type": "markdown",
      "source": [
        "We will do hyperparameter tuning to get the set of optimal hyperparameters for learning process. We will be using the optimal hyperparameters which improve our model and the generalisability. We see that the accuracy has significantly improved."
      ],
      "metadata": {
        "id": "Mk8xOBRVb4h3"
      }
    },
    {
      "cell_type": "markdown",
      "source": [
        "# c. Can you design and develop any other model for solving this problem? If so, then why have you used the reported one? Give your justification."
      ],
      "metadata": {
        "id": "vUxnKMXi8o5w"
      }
    },
    {
      "cell_type": "markdown",
      "source": [
        "We use naive bayes model because it is very simple. This model does still yield a good classification accurracy."
      ],
      "metadata": {
        "id": "rLn5mntZikmC"
      }
    },
    {
      "cell_type": "code",
      "source": [
        "from sklearn.naive_bayes import GaussianNB\n",
        "\n",
        "#Create a Gaussian Classifier\n",
        "gnb = GaussianNB()\n",
        "\n",
        "# Train the model using the training sets\n",
        "gnb.fit(X_train,Y_train)\n",
        "\n",
        "# Predict Output\n",
        "predicted = gnb.predict(X_test)"
      ],
      "metadata": {
        "id": "hOpU7uE28qym"
      },
      "execution_count": null,
      "outputs": []
    },
    {
      "cell_type": "code",
      "source": [
        "# Model Accuracy, how often is the classifier correct?\n",
        "predict_train = gnb.fit(X_train, Y_train).predict(X_train)\n",
        "\n",
        "# Accuray Score on train dataset\n",
        "accuracy_train = accuracy_score(Y_train,predict_train)\n",
        "print('accuracy_score on train dataset : ', accuracy_train)\n",
        "\n",
        "print('accuracy_score on test dataset : ', metrics.accuracy_score(Y_test, predicted))"
      ],
      "metadata": {
        "colab": {
          "base_uri": "https://localhost:8080/"
        },
        "id": "Saro68fddned",
        "outputId": "c7f2a903-490d-4152-f347-df6eb2ffff56"
      },
      "execution_count": null,
      "outputs": [
        {
          "output_type": "stream",
          "name": "stdout",
          "text": [
            "accuracy_score on train dataset :  0.855072463768116\n",
            "accuracy_score on test dataset :  0.8444444444444444\n"
          ]
        }
      ]
    },
    {
      "cell_type": "code",
      "source": [
        "import seaborn as sns\n",
        "f,a =  plt.subplots(1,2,sharex=True,sharey=True,squeeze=False)\n",
        "\n",
        "#Plotting confusion matrix training and test Data\n",
        "plot_0 = sns.heatmap((metrics.confusion_matrix(Y_train,predict_train)),annot=True,fmt='.5g',cmap=\"YlGn\",ax=a[0][0]);\n",
        "a[0][0].set_title('Training Data')\n",
        "\n",
        "plot_1 = sns.heatmap((metrics.confusion_matrix(Y_test,predicted)),annot=True,fmt='.5g',cmap=\"YlGn\",ax=a[0][1]);\n",
        "a[0][1].set_title('Test Data');"
      ],
      "metadata": {
        "colab": {
          "base_uri": "https://localhost:8080/",
          "height": 281
        },
        "id": "ZG3Alh2pd40w",
        "outputId": "9f09fd3d-b2bc-4119-a91f-d3b7a0ed0b0d"
      },
      "execution_count": null,
      "outputs": [
        {
          "output_type": "display_data",
          "data": {
            "text/plain": [
              "<Figure size 432x288 with 4 Axes>"
            ],
            "image/png": "[encoded data removed]"
          },
          "metadata": {
            "needs_background": "light"
          }
        }
      ]
    },
    {
      "cell_type": "code",
      "source": [
        "from sklearn.metrics import roc_auc_score,roc_curve,classification_report,confusion_matrix,plot_confusion_matrix\n",
        "#Classification report of naive bayes\n",
        "print(classification_report(Y_train,predict_train))\n",
        "print('*'*55)\n",
        "print(classification_report(Y_test,predicted))"
      ],
      "metadata": {
        "colab": {
          "base_uri": "https://localhost:8080/"
        },
        "id": "thSx3OQgeUqZ",
        "outputId": "720842d8-4a94-4cab-8b84-e439843b3bda"
      },
      "execution_count": null,
      "outputs": [
        {
          "output_type": "stream",
          "name": "stdout",
          "text": [
            "              precision    recall  f1-score   support\n",
            "\n",
            "           0       0.85      0.89      0.87       112\n",
            "           1       0.87      0.81      0.84        95\n",
            "\n",
            "    accuracy                           0.86       207\n",
            "   macro avg       0.86      0.85      0.85       207\n",
            "weighted avg       0.86      0.86      0.85       207\n",
            "\n",
            "*******************************************************\n",
            "              precision    recall  f1-score   support\n",
            "\n",
            "           0       0.81      0.92      0.86        48\n",
            "           1       0.89      0.76      0.82        42\n",
            "\n",
            "    accuracy                           0.84        90\n",
            "   macro avg       0.85      0.84      0.84        90\n",
            "weighted avg       0.85      0.84      0.84        90\n",
            "\n"
          ]
        }
      ]
    },
    {
      "cell_type": "markdown",
      "source": [
        "## 11. Suppose that a company has a number (>=500) of resorts around the globe.\n",
        "## a. Identify a list of features (>=5) that can be used to describe these resorts.(Please see answer below)"
      ],
      "metadata": {
        "id": "PVaYMLDoaUbg"
      }
    },
    {
      "cell_type": "markdown",
      "source": [
        "### 1. Location of resort\n",
        "### 2. price of rooms\n",
        "### 3. cancellations\n",
        "### 4. waiting list after booking\n",
        "### 5. arriving time of guests\n",
        "### 6. number of babies or children with the guests or in the resort"
      ],
      "metadata": {
        "id": "xtkfOk-Oa5Mq"
      }
    },
    {
      "cell_type": "markdown",
      "source": [
        "## b. Create a dataset (rows>=500) and explain all variables. You can generate data either synthetically or collecting from similar datasets. Submit your created dataset. In addition, please provide links in case you have collected the dataset."
      ],
      "metadata": {
        "id": "aN5S98QufTWF"
      }
    },
    {
      "cell_type": "markdown",
      "source": [
        "## Datafile: Download the dataset (hotel_bookings.csv). The description of the attributes and download of the dataset can be found in this website [link](https://www.kaggle.com/datasets/jessemostipak/hotel-booking-demand)\n"
      ],
      "metadata": {
        "id": "X1sXcIUBflGQ"
      }
    },
    {
      "cell_type": "code",
      "source": [
        "data_file_hotel = '/content/hotel_bookings.csv'\n",
        "# upload and the SCADI data files into a pandas DataFrame.\n",
        "df_resort= upload_data(data_file_SCADI)\n",
        "df_resort.name = 'df_resort'\n",
        "df_resort=(upload_data(data_file_hotel)\n",
        "                            .pipe(start_pipeline)\n",
        "                            .pipe(drop_na)\n",
        ")\n",
        "df_resort.name = 'df_resort'"
      ],
      "metadata": {
        "id": "QQrMjGkdahWO"
      },
      "execution_count": null,
      "outputs": []
    },
    {
      "cell_type": "markdown",
      "source": [
        "### Data atrributes\n",
        "\n",
        "**Hotel:** Hotel (H1 = Resort Hotel or H2 = City Hotel)\n",
        "\n",
        "**Country:** Country of origin. Categories are represented in the ISO 3155–3:2013 format\n",
        "\n",
        "**is_canceled:** Value indicating if the booking was canceled (1) or not (0)\n",
        "\n",
        "**arrival_date_month:** Month of arrival date\n",
        "\n",
        "**babies:** Number of babies\n",
        "\n",
        "**days_in_waiting_list:** Number of days the booking was in the waiting list before it was confirmed to the customer\n",
        "\n",
        "**adr:** Average Daily Rate as defined by dividing the sum of all lodging transactions by the total number of staying nights"
      ],
      "metadata": {
        "id": "yx0c5pBalhDZ"
      }
    },
    {
      "cell_type": "code",
      "source": [
        "#Print dataframe 5 rows\n",
        "print(df_resort.head())\n",
        "print('#'*100)\n",
        "\n",
        "#Print the data dimension\n",
        "print(df_resort.shape)\n",
        "print('#'*100)\n",
        "\n",
        "#Filter for resorts only\n",
        "data_resort = df_resort[(df_resort['hotel'] == 'Resort Hotel')]\n",
        "\n",
        "#Filter for the five columns we need\n",
        "df_new = data_resort[['country', 'arrival_date_month', 'babies', 'days_in_waiting_list', 'adr', 'is_canceled']]\n",
        "\n",
        "# delete rows with missing values\n",
        "df_new = df_new.dropna()\n",
        "\n",
        "# Select 500 rows from the dataset\n",
        "observations = 500\n",
        "\n",
        "# the dataset for our modelling\n",
        "df_new = df_new.sample(n = observations, replace=True)\n",
        "\n",
        "# data dimension\n",
        "df_new.shape"
      ],
      "metadata": {
        "id": "r8rukmk5gogA"
      },
      "execution_count": null,
      "outputs": []
    },
    {
      "cell_type": "code",
      "source": [
        "# Check missing values in the dataframe\n",
        "null = pd.DataFrame({'Null Values' : df_new.isna().sum(), 'Percentage Null Values' : (df_new.isna().sum()) / (df_new.shape[0]) * (100)})\n",
        "null"
      ],
      "metadata": {
        "id": "r9z_x0W2e8nv",
        "colab": {
          "base_uri": "https://localhost:8080/",
          "height": 237
        },
        "outputId": "11437bda-c2b5-45d9-f3c0-2f8ad2752393"
      },
      "execution_count": null,
      "outputs": [
        {
          "output_type": "execute_result",
          "data": {
            "text/plain": [
              "                      Null Values  Percentage Null Values\n",
              "country                         0                     0.0\n",
              "arrival_date_month              0                     0.0\n",
              "babies                          0                     0.0\n",
              "days_in_waiting_list            0                     0.0\n",
              "adr                             0                     0.0\n",
              "is_canceled                     0                     0.0"
            ],
            "text/html": [
              "\n",
              "  <div id=\"df-77b97dfc-0312-40cf-9c79-522c1567ed40\">\n",
              "    <div class=\"colab-df-container\">\n",
              "      <div>\n",
              "<style scoped>\n",
              "    .dataframe tbody tr th:only-of-type {\n",
              "        vertical-align: middle;\n",
              "    }\n",
              "\n",
              "    .dataframe tbody tr th {\n",
              "        vertical-align: top;\n",
              "    }\n",
              "\n",
              "    .dataframe thead th {\n",
              "        text-align: right;\n",
              "    }\n",
              "</style>\n",
              "<table border=\"1\" class=\"dataframe\">\n",
              "  <thead>\n",
              "    <tr style=\"text-align: right;\">\n",
              "      <th></th>\n",
              "      <th>Null Values</th>\n",
              "      <th>Percentage Null Values</th>\n",
              "    </tr>\n",
              "  </thead>\n",
              "  <tbody>\n",
              "    <tr>\n",
              "      <th>country</th>\n",
              "      <td>0</td>\n",
              "      <td>0.0</td>\n",
              "    </tr>\n",
              "    <tr>\n",
              "      <th>arrival_date_month</th>\n",
              "      <td>0</td>\n",
              "      <td>0.0</td>\n",
              "    </tr>\n",
              "    <tr>\n",
              "      <th>babies</th>\n",
              "      <td>0</td>\n",
              "      <td>0.0</td>\n",
              "    </tr>\n",
              "    <tr>\n",
              "      <th>days_in_waiting_list</th>\n",
              "      <td>0</td>\n",
              "      <td>0.0</td>\n",
              "    </tr>\n",
              "    <tr>\n",
              "      <th>adr</th>\n",
              "      <td>0</td>\n",
              "      <td>0.0</td>\n",
              "    </tr>\n",
              "    <tr>\n",
              "      <th>is_canceled</th>\n",
              "      <td>0</td>\n",
              "      <td>0.0</td>\n",
              "    </tr>\n",
              "  </tbody>\n",
              "</table>\n",
              "</div>\n",
              "      <button class=\"colab-df-convert\" onclick=\"convertToInteractive('df-77b97dfc-0312-40cf-9c79-522c1567ed40')\"\n",
              "              title=\"Convert this dataframe to an interactive table.\"\n",
              "              style=\"display:none;\">\n",
              "        \n",
              "  <svg xmlns=\"http://www.w3.org/2000/svg\" height=\"24px\"viewBox=\"0 0 24 24\"\n",
              "       width=\"24px\">\n",
              "    <path d=\"M0 0h24v24H0V0z\" fill=\"none\"/>\n",
              "    <path d=\"M18.56 5.44l.94 2.06.94-2.06 2.06-.94-2.06-.94-.94-2.06-.94 2.06-2.06.94zm-11 1L8.5 8.5l.94-2.06 2.06-.94-2.06-.94L8.5 2.5l-.94 2.06-2.06.94zm10 10l.94 2.06.94-2.06 2.06-.94-2.06-.94-.94-2.06-.94 2.06-2.06.94z\"/><path d=\"M17.41 7.96l-1.37-1.37c-.4-.4-.92-.59-1.43-.59-.52 0-1.04.2-1.43.59L10.3 9.45l-7.72 7.72c-.78.78-.78 2.05 0 2.83L4 21.41c.39.39.9.59 1.41.59.51 0 1.02-.2 1.41-.59l7.78-7.78 2.81-2.81c.8-.78.8-2.07 0-2.86zM5.41 20L4 18.59l7.72-7.72 1.47 1.35L5.41 20z\"/>\n",
              "  </svg>\n",
              "      </button>\n",
              "      \n",
              "  <style>\n",
              "    .colab-df-container {\n",
              "      display:flex;\n",
              "      flex-wrap:wrap;\n",
              "      gap: 12px;\n",
              "    }\n",
              "\n",
              "    .colab-df-convert {\n",
              "      background-color: #E8F0FE;\n",
              "      border: none;\n",
              "      border-radius: 50%;\n",
              "      cursor: pointer;\n",
              "      display: none;\n",
              "      fill: #1967D2;\n",
              "      height: 32px;\n",
              "      padding: 0 0 0 0;\n",
              "      width: 32px;\n",
              "    }\n",
              "\n",
              "    .colab-df-convert:hover {\n",
              "      background-color: #E2EBFA;\n",
              "      box-shadow: 0px 1px 2px rgba(60, 64, 67, 0.3), 0px 1px 3px 1px rgba(60, 64, 67, 0.15);\n",
              "      fill: #174EA6;\n",
              "    }\n",
              "\n",
              "    [theme=dark] .colab-df-convert {\n",
              "      background-color: #3B4455;\n",
              "      fill: #D2E3FC;\n",
              "    }\n",
              "\n",
              "    [theme=dark] .colab-df-convert:hover {\n",
              "      background-color: #434B5C;\n",
              "      box-shadow: 0px 1px 3px 1px rgba(0, 0, 0, 0.15);\n",
              "      filter: drop-shadow(0px 1px 2px rgba(0, 0, 0, 0.3));\n",
              "      fill: #FFFFFF;\n",
              "    }\n",
              "  </style>\n",
              "\n",
              "      <script>\n",
              "        const buttonEl =\n",
              "          document.querySelector('#df-77b97dfc-0312-40cf-9c79-522c1567ed40 button.colab-df-convert');\n",
              "        buttonEl.style.display =\n",
              "          google.colab.kernel.accessAllowed ? 'block' : 'none';\n",
              "\n",
              "        async function convertToInteractive(key) {\n",
              "          const element = document.querySelector('#df-77b97dfc-0312-40cf-9c79-522c1567ed40');\n",
              "          const dataTable =\n",
              "            await google.colab.kernel.invokeFunction('convertToInteractive',\n",
              "                                                     [key], {});\n",
              "          if (!dataTable) return;\n",
              "\n",
              "          const docLinkHtml = 'Like what you see? Visit the ' +\n",
              "            '<a target=\"_blank\" href=https://colab.research.google.com/notebooks/data_table.ipynb>data table notebook</a>'\n",
              "            + ' to learn more about interactive tables.';\n",
              "          element.innerHTML = '';\n",
              "          dataTable['output_type'] = 'display_data';\n",
              "          await google.colab.output.renderOutput(dataTable, element);\n",
              "          const docLink = document.createElement('div');\n",
              "          docLink.innerHTML = docLinkHtml;\n",
              "          element.appendChild(docLink);\n",
              "        }\n",
              "      </script>\n",
              "    </div>\n",
              "  </div>\n",
              "  "
            ]
          },
          "metadata": {},
          "execution_count": 51
        }
      ]
    },
    {
      "cell_type": "code",
      "source": [
        "# Transform categorical data\n",
        "from sklearn.preprocessing import LabelEncoder\n",
        "labelencoder = LabelEncoder()\n",
        "\n",
        "df_new['country'] = labelencoder.fit_transform(df_new['country'])\n",
        "df_new['arrival_date_month'] = labelencoder.fit_transform(df_new['arrival_date_month'])"
      ],
      "metadata": {
        "id": "4WmoqQObj9kB"
      },
      "execution_count": null,
      "outputs": []
    },
    {
      "cell_type": "code",
      "source": [
        "# The new features after labelencoder\n",
        "# features\n",
        "resort_features = df_new.drop('arrival_date_month', axis=1)\n",
        "target_resort = df_new['arrival_date_month']\n",
        "print('Features Matrix:\\n',resort_features)\n",
        "print('#'*100)\n",
        "\n",
        "#Print the data dimension\n",
        "print(df_new.shape)\n",
        "print(resort_features.shape)\n",
        "print(target_resort.shape)\n",
        "print('#'*100)\n",
        "\n",
        "# the different target class\n",
        "unique_resort = df_new['arrival_date_month'].unique()\n",
        "print(unique_resort)"
      ],
      "metadata": {
        "id": "LdOcC86tkUkJ",
        "colab": {
          "base_uri": "https://localhost:8080/"
        },
        "outputId": "e0a645fe-2845-4181-d5f9-826d451f8bec"
      },
      "execution_count": null,
      "outputs": [
        {
          "output_type": "stream",
          "name": "stdout",
          "text": [
            "Features Matrix:\n",
            "        country  babies  days_in_waiting_list   adr  is_canceled\n",
            "2879        10       0                     0  48.0            0\n",
            "18233        1       0                     0  36.0            0\n",
            "18628       13       0                     0  34.2            0\n",
            "2867         7       0                     0  48.0            0\n",
            "2953         6       0                     0  36.0            0\n",
            "...        ...     ...                   ...   ...          ...\n",
            "18284        6       0                     0  36.0            0\n",
            "14398       13       0                     0  35.1            0\n",
            "18316        0       0                     0  52.2            0\n",
            "30628       13       0                     0  43.0            0\n",
            "18270       14       0                     0  48.0            0\n",
            "\n",
            "[500 rows x 5 columns]\n",
            "####################################################################################################\n",
            "(500, 6)\n",
            "(500, 5)\n",
            "(500,)\n",
            "####################################################################################################\n",
            "[ 8  6  5  7  1  9  4  3  0  2 10]\n"
          ]
        }
      ]
    },
    {
      "cell_type": "markdown",
      "source": [
        "# c. Build a ML model that can help a customer to select appropriate set of resorts based on the season of travel. Present and describe the performance of your model."
      ],
      "metadata": {
        "id": "TlEkv1AumUTH"
      }
    },
    {
      "cell_type": "code",
      "source": [
        "#Split data into training data and test data\n",
        "Resort_X_train,Resort_X_test,Resort_Y_train,Resort_Y_test = train_test_split(resort_features,target_resort,test_size=0.3,random_state=0)\n",
        "\n",
        "#check for distribution of target\n",
        "print(Resort_Y_train.value_counts(normalize=True))\n",
        "print(Resort_Y_train.value_counts())\n",
        "print('*'*50)\n",
        "print(Resort_Y_test.value_counts(normalize=True))\n",
        "print(Resort_Y_test.value_counts())\n",
        "print('*'*50)\n",
        "print('We dedicate 30% of the initial data to test data and 70% is for training data to train the model')"
      ],
      "metadata": {
        "id": "KDEQYB-3m0UC",
        "colab": {
          "base_uri": "https://localhost:8080/"
        },
        "outputId": "65832618-cf05-4adc-e889-b31b98e4ab6b"
      },
      "execution_count": null,
      "outputs": [
        {
          "output_type": "stream",
          "name": "stdout",
          "text": [
            "8     0.780000\n",
            "9     0.045714\n",
            "3     0.037143\n",
            "7     0.034286\n",
            "6     0.031429\n",
            "4     0.025714\n",
            "1     0.014286\n",
            "5     0.011429\n",
            "10    0.008571\n",
            "0     0.008571\n",
            "2     0.002857\n",
            "Name: arrival_date_month, dtype: float64\n",
            "8     273\n",
            "9      16\n",
            "3      13\n",
            "7      12\n",
            "6      11\n",
            "4       9\n",
            "1       5\n",
            "5       4\n",
            "10      3\n",
            "0       3\n",
            "2       1\n",
            "Name: arrival_date_month, dtype: int64\n",
            "**************************************************\n",
            "8     0.760000\n",
            "9     0.080000\n",
            "7     0.053333\n",
            "3     0.033333\n",
            "1     0.026667\n",
            "6     0.013333\n",
            "5     0.013333\n",
            "4     0.013333\n",
            "10    0.006667\n",
            "Name: arrival_date_month, dtype: float64\n",
            "8     114\n",
            "9      12\n",
            "7       8\n",
            "3       5\n",
            "1       4\n",
            "6       2\n",
            "5       2\n",
            "4       2\n",
            "10      1\n",
            "Name: arrival_date_month, dtype: int64\n",
            "**************************************************\n",
            "We dedicate 30% of the initial data to test data and 70% is for training data to train the model\n"
          ]
        }
      ]
    },
    {
      "cell_type": "code",
      "source": [
        "#Create a Gaussian Classifier\n",
        "gnb = GaussianNB()\n",
        "\n",
        "# Train the model using the training sets\n",
        "gnb.fit(Resort_X_train,Resort_Y_train)\n",
        "\n",
        "# Predict Output\n",
        "predicted = gnb.predict(Resort_X_test)"
      ],
      "metadata": {
        "id": "wFwLkXWNmH73"
      },
      "execution_count": null,
      "outputs": []
    },
    {
      "cell_type": "code",
      "source": [
        "# Model Accuracy, how often is the classifier correct?\n",
        "predict_train = gnb.fit(Resort_X_train, Resort_Y_train).predict(Resort_X_train)\n",
        "\n",
        "# Accuray Score on train dataset\n",
        "accuracy_train = accuracy_score(Resort_Y_train,predict_train)\n",
        "print('accuracy_score on train dataset : ', accuracy_train)\n",
        "\n",
        "print('accuracy_score on test dataset : ', metrics.accuracy_score(Resort_Y_test, predicted))"
      ],
      "metadata": {
        "colab": {
          "base_uri": "https://localhost:8080/"
        },
        "id": "hRdnxB8hnl2W",
        "outputId": "6d91f051-6d8e-4f54-b362-5ee6a2d77906"
      },
      "execution_count": null,
      "outputs": [
        {
          "output_type": "stream",
          "name": "stdout",
          "text": [
            "accuracy_score on train dataset :  0.21428571428571427\n",
            "accuracy_score on test dataset :  0.14\n"
          ]
        }
      ]
    },
    {
      "cell_type": "markdown",
      "source": [
        "# How can we improve this model? (See Answer Below)\n"
      ],
      "metadata": {
        "id": "WGpxgB2NoD0j"
      }
    },
    {
      "cell_type": "markdown",
      "source": [
        "The target class is imbalanced therefore we can group them into quarterly for seasonality. January - April, May - August, September - December. The above accurracy is very poor."
      ],
      "metadata": {
        "id": "pFnQRzZtoMBy"
      }
    },
    {
      "cell_type": "markdown",
      "source": [
        "# d. Why do we need a ML model for this problem?"
      ],
      "metadata": {
        "id": "LEPklVS8o6hY"
      }
    },
    {
      "cell_type": "markdown",
      "source": [
        "This is a classification problem, we are classifying the data in order for the customer to make the right decision. The customer can choose to go to a resort in the months that are price lower. So knowing when the price is lower, waiting time for booking is less or when there is less babies the customer can decide. In this case the customer could be a single person who want a resort that is silent and not family orientated."
      ],
      "metadata": {
        "id": "cdCHXp7go-sG"
      }
    }
  ],
  "metadata": {
    "interpreter": {
      "hash": "b3ba2566441a7c06988d0923437866b63cedc61552a5af99d1f4fb67d367b25f"
    },
    "kernelspec": {
      "display_name": "Python 3.9.7 ('base')",
      "language": "python",
      "name": "python3"
    },
    "language_info": {
      "codemirror_mode": {
        "name": "ipython",
        "version": 3
      },
      "file_extension": ".py",
      "mimetype": "text/x-python",
      "name": "python",
      "nbconvert_exporter": "python",
      "pygments_lexer": "ipython3",
      "version": "3.9.7"
    },
    "orig_nbformat": 4,
    "colab": {
      "provenance": [],
      "collapsed_sections": [
        "7kzZPlJjqWeU",
        "VrwToJgtPYD4",
        "SQGVJhMHd68f",
        "xtkfOk-Oa5Mq"
      ],
      "include_colab_link": true
    }
  },
  "nbformat": 4,
  "nbformat_minor": 0
}