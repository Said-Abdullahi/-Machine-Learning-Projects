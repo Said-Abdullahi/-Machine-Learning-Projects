{
  "nbformat": 4,
  "nbformat_minor": 0,
  "metadata": {
    "colab": {
      "provenance": [],
      "authorship_tag": "ABX9TyO+/ikuRH8MH9m1+/0hKuwX",
      "include_colab_link": true
    },
    "kernelspec": {
      "name": "python3",
      "display_name": "Python 3"
    },
    "language_info": {
      "name": "python"
    }
  },
  "cells": [
    {
      "cell_type": "markdown",
      "metadata": {
        "id": "view-in-github",
        "colab_type": "text"
      },
      "source": [
        "<a href=\"https://colab.research.google.com/github/Said-Abdullahi/-Machine-Learning-Projects/blob/main/ML_Forest_Fire.ipynb\" target=\"_parent\"><img src=\"https://colab.research.google.com/assets/colab-badge.svg\" alt=\"Open In Colab\"/></a>"
      ]
    },
    {
      "cell_type": "code",
      "source": [
        "# ++++++++++++++++++++++++++++++++++++++++++++++++++++++++++++++++++++++++++++++\n",
        "#  Name:Said Abdullahi\n",
        "#  SIT720:  Assessment Task 4\n",
        "#  Student ID: 221377847\n",
        "# ++++++++++++++++++++++++++++++++++++++++++++++++++++++++++++++++++++++++++++++"
      ],
      "metadata": {
        "id": "aL5O2ZtwveBq"
      },
      "execution_count": null,
      "outputs": []
    },
    {
      "cell_type": "code",
      "execution_count": null,
      "metadata": {
        "id": "LFV1hPV1hG0Q"
      },
      "outputs": [],
      "source": [
        "#Install packages\n",
        "import numpy as np\n",
        "import pandas as pd\n",
        "from sklearn.preprocessing import OneHotEncoder\n",
        "from sklearn.preprocessing import LabelEncoder\n",
        "from sklearn.model_selection import train_test_split\n",
        "from sklearn.linear_model import BayesianRidge, LinearRegression\n",
        "from sklearn.tree import DecisionTreeRegressor\n",
        "from sklearn.ensemble import RandomForestRegressor\n",
        "from sklearn.neural_network import MLPRegressor\n",
        "from sklearn.svm import SVR\n",
        "from sklearn.metrics import mean_squared_error\n",
        "from math import sqrt\n",
        "from sklearn.metrics import mean_absolute_error\n",
        "from sklearn.preprocessing import LabelEncoder, StandardScaler, MinMaxScaler\n",
        "from numpy import mean\n",
        "from numpy import absolute\n",
        "from numpy import sqrt\n",
        "from sklearn.model_selection import GridSearchCV\n",
        "from sklearn.model_selection import cross_val_score\n",
        "from sklearn.model_selection import KFold"
      ]
    },
    {
      "cell_type": "code",
      "source": [
        "#Load forest fire dataset\n",
        "df = pd.read_csv('/content/forestfires.csv')\n",
        "print(df.head())\n",
        "print('*'*50)\n",
        "print('The shape of dataset is', df.shape)\n",
        "print('*'*50)\n",
        "print(df.info())"
      ],
      "metadata": {
        "id": "mVnAYJaVhT2C",
        "colab": {
          "base_uri": "https://localhost:8080/"
        },
        "outputId": "7553de4c-8fd3-4968-d7ff-fb63b273f9cf"
      },
      "execution_count": null,
      "outputs": [
        {
          "output_type": "stream",
          "name": "stdout",
          "text": [
            "   X  Y month  day  FFMC   DMC     DC  ISI  temp  RH  wind  rain  area\n",
            "0  7  5   mar  fri  86.2  26.2   94.3  5.1   8.2  51   6.7   0.0   0.0\n",
            "1  7  4   oct  tue  90.6  35.4  669.1  6.7  18.0  33   0.9   0.0   0.0\n",
            "2  7  4   oct  sat  90.6  43.7  686.9  6.7  14.6  33   1.3   0.0   0.0\n",
            "3  8  6   mar  fri  91.7  33.3   77.5  9.0   8.3  97   4.0   0.2   0.0\n",
            "4  8  6   mar  sun  89.3  51.3  102.2  9.6  11.4  99   1.8   0.0   0.0\n",
            "**************************************************\n",
            "The shape of dataset is (517, 13)\n",
            "**************************************************\n",
            "<class 'pandas.core.frame.DataFrame'>\n",
            "RangeIndex: 517 entries, 0 to 516\n",
            "Data columns (total 13 columns):\n",
            " #   Column  Non-Null Count  Dtype  \n",
            "---  ------  --------------  -----  \n",
            " 0   X       517 non-null    int64  \n",
            " 1   Y       517 non-null    int64  \n",
            " 2   month   517 non-null    object \n",
            " 3   day     517 non-null    object \n",
            " 4   FFMC    517 non-null    float64\n",
            " 5   DMC     517 non-null    float64\n",
            " 6   DC      517 non-null    float64\n",
            " 7   ISI     517 non-null    float64\n",
            " 8   temp    517 non-null    float64\n",
            " 9   RH      517 non-null    int64  \n",
            " 10  wind    517 non-null    float64\n",
            " 11  rain    517 non-null    float64\n",
            " 12  area    517 non-null    float64\n",
            "dtypes: float64(8), int64(3), object(2)\n",
            "memory usage: 52.6+ KB\n",
            "None\n"
          ]
        }
      ]
    },
    {
      "cell_type": "code",
      "source": [
        "#Descriptive statistics\n",
        "df.describe()"
      ],
      "metadata": {
        "colab": {
          "base_uri": "https://localhost:8080/",
          "height": 364
        },
        "id": "0mgPePvzhxVh",
        "outputId": "b40ed774-d6fd-4656-ddf4-a6b4c0418271"
      },
      "execution_count": null,
      "outputs": [
        {
          "output_type": "execute_result",
          "data": {
            "text/plain": [
              "                X           Y        FFMC         DMC          DC         ISI  \\\n",
              "count  517.000000  517.000000  517.000000  517.000000  517.000000  517.000000   \n",
              "mean     4.669246    4.299807   90.644681  110.872340  547.940039    9.021663   \n",
              "std      2.313778    1.229900    5.520111   64.046482  248.066192    4.559477   \n",
              "min      1.000000    2.000000   18.700000    1.100000    7.900000    0.000000   \n",
              "25%      3.000000    4.000000   90.200000   68.600000  437.700000    6.500000   \n",
              "50%      4.000000    4.000000   91.600000  108.300000  664.200000    8.400000   \n",
              "75%      7.000000    5.000000   92.900000  142.400000  713.900000   10.800000   \n",
              "max      9.000000    9.000000   96.200000  291.300000  860.600000   56.100000   \n",
              "\n",
              "             temp          RH        wind        rain         area  \n",
              "count  517.000000  517.000000  517.000000  517.000000   517.000000  \n",
              "mean    18.889168   44.288201    4.017602    0.021663    12.847292  \n",
              "std      5.806625   16.317469    1.791653    0.295959    63.655818  \n",
              "min      2.200000   15.000000    0.400000    0.000000     0.000000  \n",
              "25%     15.500000   33.000000    2.700000    0.000000     0.000000  \n",
              "50%     19.300000   42.000000    4.000000    0.000000     0.520000  \n",
              "75%     22.800000   53.000000    4.900000    0.000000     6.570000  \n",
              "max     33.300000  100.000000    9.400000    6.400000  1090.840000  "
            ],
            "text/html": [
              "\n",
              "  <div id=\"df-cb42c1ff-28a5-413a-948d-8eed2d961d17\">\n",
              "    <div class=\"colab-df-container\">\n",
              "      <div>\n",
              "<style scoped>\n",
              "    .dataframe tbody tr th:only-of-type {\n",
              "        vertical-align: middle;\n",
              "    }\n",
              "\n",
              "    .dataframe tbody tr th {\n",
              "        vertical-align: top;\n",
              "    }\n",
              "\n",
              "    .dataframe thead th {\n",
              "        text-align: right;\n",
              "    }\n",
              "</style>\n",
              "<table border=\"1\" class=\"dataframe\">\n",
              "  <thead>\n",
              "    <tr style=\"text-align: right;\">\n",
              "      <th></th>\n",
              "      <th>X</th>\n",
              "      <th>Y</th>\n",
              "      <th>FFMC</th>\n",
              "      <th>DMC</th>\n",
              "      <th>DC</th>\n",
              "      <th>ISI</th>\n",
              "      <th>temp</th>\n",
              "      <th>RH</th>\n",
              "      <th>wind</th>\n",
              "      <th>rain</th>\n",
              "      <th>area</th>\n",
              "    </tr>\n",
              "  </thead>\n",
              "  <tbody>\n",
              "    <tr>\n",
              "      <th>count</th>\n",
              "      <td>517.000000</td>\n",
              "      <td>517.000000</td>\n",
              "      <td>517.000000</td>\n",
              "      <td>517.000000</td>\n",
              "      <td>517.000000</td>\n",
              "      <td>517.000000</td>\n",
              "      <td>517.000000</td>\n",
              "      <td>517.000000</td>\n",
              "      <td>517.000000</td>\n",
              "      <td>517.000000</td>\n",
              "      <td>517.000000</td>\n",
              "    </tr>\n",
              "    <tr>\n",
              "      <th>mean</th>\n",
              "      <td>4.669246</td>\n",
              "      <td>4.299807</td>\n",
              "      <td>90.644681</td>\n",
              "      <td>110.872340</td>\n",
              "      <td>547.940039</td>\n",
              "      <td>9.021663</td>\n",
              "      <td>18.889168</td>\n",
              "      <td>44.288201</td>\n",
              "      <td>4.017602</td>\n",
              "      <td>0.021663</td>\n",
              "      <td>12.847292</td>\n",
              "    </tr>\n",
              "    <tr>\n",
              "      <th>std</th>\n",
              "      <td>2.313778</td>\n",
              "      <td>1.229900</td>\n",
              "      <td>5.520111</td>\n",
              "      <td>64.046482</td>\n",
              "      <td>248.066192</td>\n",
              "      <td>4.559477</td>\n",
              "      <td>5.806625</td>\n",
              "      <td>16.317469</td>\n",
              "      <td>1.791653</td>\n",
              "      <td>0.295959</td>\n",
              "      <td>63.655818</td>\n",
              "    </tr>\n",
              "    <tr>\n",
              "      <th>min</th>\n",
              "      <td>1.000000</td>\n",
              "      <td>2.000000</td>\n",
              "      <td>18.700000</td>\n",
              "      <td>1.100000</td>\n",
              "      <td>7.900000</td>\n",
              "      <td>0.000000</td>\n",
              "      <td>2.200000</td>\n",
              "      <td>15.000000</td>\n",
              "      <td>0.400000</td>\n",
              "      <td>0.000000</td>\n",
              "      <td>0.000000</td>\n",
              "    </tr>\n",
              "    <tr>\n",
              "      <th>25%</th>\n",
              "      <td>3.000000</td>\n",
              "      <td>4.000000</td>\n",
              "      <td>90.200000</td>\n",
              "      <td>68.600000</td>\n",
              "      <td>437.700000</td>\n",
              "      <td>6.500000</td>\n",
              "      <td>15.500000</td>\n",
              "      <td>33.000000</td>\n",
              "      <td>2.700000</td>\n",
              "      <td>0.000000</td>\n",
              "      <td>0.000000</td>\n",
              "    </tr>\n",
              "    <tr>\n",
              "      <th>50%</th>\n",
              "      <td>4.000000</td>\n",
              "      <td>4.000000</td>\n",
              "      <td>91.600000</td>\n",
              "      <td>108.300000</td>\n",
              "      <td>664.200000</td>\n",
              "      <td>8.400000</td>\n",
              "      <td>19.300000</td>\n",
              "      <td>42.000000</td>\n",
              "      <td>4.000000</td>\n",
              "      <td>0.000000</td>\n",
              "      <td>0.520000</td>\n",
              "    </tr>\n",
              "    <tr>\n",
              "      <th>75%</th>\n",
              "      <td>7.000000</td>\n",
              "      <td>5.000000</td>\n",
              "      <td>92.900000</td>\n",
              "      <td>142.400000</td>\n",
              "      <td>713.900000</td>\n",
              "      <td>10.800000</td>\n",
              "      <td>22.800000</td>\n",
              "      <td>53.000000</td>\n",
              "      <td>4.900000</td>\n",
              "      <td>0.000000</td>\n",
              "      <td>6.570000</td>\n",
              "    </tr>\n",
              "    <tr>\n",
              "      <th>max</th>\n",
              "      <td>9.000000</td>\n",
              "      <td>9.000000</td>\n",
              "      <td>96.200000</td>\n",
              "      <td>291.300000</td>\n",
              "      <td>860.600000</td>\n",
              "      <td>56.100000</td>\n",
              "      <td>33.300000</td>\n",
              "      <td>100.000000</td>\n",
              "      <td>9.400000</td>\n",
              "      <td>6.400000</td>\n",
              "      <td>1090.840000</td>\n",
              "    </tr>\n",
              "  </tbody>\n",
              "</table>\n",
              "</div>\n",
              "      <button class=\"colab-df-convert\" onclick=\"convertToInteractive('df-cb42c1ff-28a5-413a-948d-8eed2d961d17')\"\n",
              "              title=\"Convert this dataframe to an interactive table.\"\n",
              "              style=\"display:none;\">\n",
              "        \n",
              "  <svg xmlns=\"http://www.w3.org/2000/svg\" height=\"24px\"viewBox=\"0 0 24 24\"\n",
              "       width=\"24px\">\n",
              "    <path d=\"M0 0h24v24H0V0z\" fill=\"none\"/>\n",
              "    <path d=\"M18.56 5.44l.94 2.06.94-2.06 2.06-.94-2.06-.94-.94-2.06-.94 2.06-2.06.94zm-11 1L8.5 8.5l.94-2.06 2.06-.94-2.06-.94L8.5 2.5l-.94 2.06-2.06.94zm10 10l.94 2.06.94-2.06 2.06-.94-2.06-.94-.94-2.06-.94 2.06-2.06.94z\"/><path d=\"M17.41 7.96l-1.37-1.37c-.4-.4-.92-.59-1.43-.59-.52 0-1.04.2-1.43.59L10.3 9.45l-7.72 7.72c-.78.78-.78 2.05 0 2.83L4 21.41c.39.39.9.59 1.41.59.51 0 1.02-.2 1.41-.59l7.78-7.78 2.81-2.81c.8-.78.8-2.07 0-2.86zM5.41 20L4 18.59l7.72-7.72 1.47 1.35L5.41 20z\"/>\n",
              "  </svg>\n",
              "      </button>\n",
              "      \n",
              "  <style>\n",
              "    .colab-df-container {\n",
              "      display:flex;\n",
              "      flex-wrap:wrap;\n",
              "      gap: 12px;\n",
              "    }\n",
              "\n",
              "    .colab-df-convert {\n",
              "      background-color: #E8F0FE;\n",
              "      border: none;\n",
              "      border-radius: 50%;\n",
              "      cursor: pointer;\n",
              "      display: none;\n",
              "      fill: #1967D2;\n",
              "      height: 32px;\n",
              "      padding: 0 0 0 0;\n",
              "      width: 32px;\n",
              "    }\n",
              "\n",
              "    .colab-df-convert:hover {\n",
              "      background-color: #E2EBFA;\n",
              "      box-shadow: 0px 1px 2px rgba(60, 64, 67, 0.3), 0px 1px 3px 1px rgba(60, 64, 67, 0.15);\n",
              "      fill: #174EA6;\n",
              "    }\n",
              "\n",
              "    [theme=dark] .colab-df-convert {\n",
              "      background-color: #3B4455;\n",
              "      fill: #D2E3FC;\n",
              "    }\n",
              "\n",
              "    [theme=dark] .colab-df-convert:hover {\n",
              "      background-color: #434B5C;\n",
              "      box-shadow: 0px 1px 3px 1px rgba(0, 0, 0, 0.15);\n",
              "      filter: drop-shadow(0px 1px 2px rgba(0, 0, 0, 0.3));\n",
              "      fill: #FFFFFF;\n",
              "    }\n",
              "  </style>\n",
              "\n",
              "      <script>\n",
              "        const buttonEl =\n",
              "          document.querySelector('#df-cb42c1ff-28a5-413a-948d-8eed2d961d17 button.colab-df-convert');\n",
              "        buttonEl.style.display =\n",
              "          google.colab.kernel.accessAllowed ? 'block' : 'none';\n",
              "\n",
              "        async function convertToInteractive(key) {\n",
              "          const element = document.querySelector('#df-cb42c1ff-28a5-413a-948d-8eed2d961d17');\n",
              "          const dataTable =\n",
              "            await google.colab.kernel.invokeFunction('convertToInteractive',\n",
              "                                                     [key], {});\n",
              "          if (!dataTable) return;\n",
              "\n",
              "          const docLinkHtml = 'Like what you see? Visit the ' +\n",
              "            '<a target=\"_blank\" href=https://colab.research.google.com/notebooks/data_table.ipynb>data table notebook</a>'\n",
              "            + ' to learn more about interactive tables.';\n",
              "          element.innerHTML = '';\n",
              "          dataTable['output_type'] = 'display_data';\n",
              "          await google.colab.output.renderOutput(dataTable, element);\n",
              "          const docLink = document.createElement('div');\n",
              "          docLink.innerHTML = docLinkHtml;\n",
              "          element.appendChild(docLink);\n",
              "        }\n",
              "      </script>\n",
              "    </div>\n",
              "  </div>\n",
              "  "
            ]
          },
          "metadata": {},
          "execution_count": 3
        }
      ]
    },
    {
      "cell_type": "code",
      "source": [
        "df['area']"
      ],
      "metadata": {
        "colab": {
          "base_uri": "https://localhost:8080/"
        },
        "id": "QNAeKOaQjs5E",
        "outputId": "7f28ae6b-6127-4fd9-eb02-37106a90a084"
      },
      "execution_count": null,
      "outputs": [
        {
          "output_type": "execute_result",
          "data": {
            "text/plain": [
              "0       0.00\n",
              "1       0.00\n",
              "2       0.00\n",
              "3       0.00\n",
              "4       0.00\n",
              "       ...  \n",
              "512     6.44\n",
              "513    54.29\n",
              "514    11.16\n",
              "515     0.00\n",
              "516     0.00\n",
              "Name: area, Length: 517, dtype: float64"
            ]
          },
          "metadata": {},
          "execution_count": 12
        }
      ]
    },
    {
      "cell_type": "code",
      "source": [
        "import matplotlib.pyplot as plt\n",
        "\n",
        "# Area is extremely skewed therefore, the journal suggest taking the log.\n",
        "n, bins, patches = plt.hist(x=df['area'], bins='auto', color='#0504aa',\n",
        "                            alpha=0.99, rwidth=0.99)\n",
        "plt.grid(axis='y', alpha=0.75)\n",
        "plt.xlabel('Value')\n",
        "plt.ylabel('Frequency')\n",
        "plt.title('Area')\n",
        "plt.text(23, 45, r'$\\mu=13, sd=64$')\n",
        "maxfreq = n.max()\n",
        "# Set a clean upper y-axis limit.\n",
        "plt.ylim(ymax=np.ceil(maxfreq / 10) * 10 if maxfreq % 10 else maxfreq + 10)"
      ],
      "metadata": {
        "colab": {
          "base_uri": "https://localhost:8080/",
          "height": 313
        },
        "id": "AjHBPc-5khE8",
        "outputId": "a4cdfe08-69e5-4e89-a6a6-bae6e6451987"
      },
      "execution_count": null,
      "outputs": [
        {
          "output_type": "execute_result",
          "data": {
            "text/plain": [
              "(0.0, 300.0)"
            ]
          },
          "metadata": {},
          "execution_count": 3
        },
        {
          "output_type": "display_data",
          "data": {
            "text/plain": [
              "<Figure size 432x288 with 1 Axes>"
            ],
            "image/png": "[encoded data removed]"
          },
          "metadata": {
            "needs_background": "light"
          }
        }
      ]
    },
    {
      "cell_type": "code",
      "source": [
        "#Taking the log of area\n",
        "df['Log_area']=np.log10(df['area']+1)"
      ],
      "metadata": {
        "id": "lJqQJ9hymQC6"
      },
      "execution_count": null,
      "outputs": []
    },
    {
      "cell_type": "code",
      "source": [
        "df.boxplot(column=['Log_area'])"
      ],
      "metadata": {
        "colab": {
          "base_uri": "https://localhost:8080/",
          "height": 283
        },
        "id": "JdkUy5Hgi1k8",
        "outputId": "7f1b0bc3-0699-42c0-8603-d5bcba9cbad2"
      },
      "execution_count": null,
      "outputs": [
        {
          "output_type": "execute_result",
          "data": {
            "text/plain": [
              "<matplotlib.axes._subplots.AxesSubplot at 0x7f60b67dd7d0>"
            ]
          },
          "metadata": {},
          "execution_count": 11
        },
        {
          "output_type": "display_data",
          "data": {
            "text/plain": [
              "<Figure size 432x288 with 1 Axes>"
            ],
            "image/png": "[encoded data removed]"
          },
          "metadata": {
            "needs_background": "light"
          }
        }
      ]
    },
    {
      "cell_type": "code",
      "source": [
        "df['Log_area']"
      ],
      "metadata": {
        "colab": {
          "base_uri": "https://localhost:8080/"
        },
        "id": "KqDkhsj3gJv6",
        "outputId": "402d3829-9adb-4c89-8963-700f05110156"
      },
      "execution_count": null,
      "outputs": [
        {
          "output_type": "execute_result",
          "data": {
            "text/plain": [
              "0      0.000000\n",
              "1      0.000000\n",
              "2      0.000000\n",
              "3      0.000000\n",
              "4      0.000000\n",
              "         ...   \n",
              "512    0.871573\n",
              "513    1.742647\n",
              "514    1.084934\n",
              "515    0.000000\n",
              "516    0.000000\n",
              "Name: Log_area, Length: 517, dtype: float64"
            ]
          },
          "metadata": {},
          "execution_count": 5
        }
      ]
    },
    {
      "cell_type": "code",
      "source": [
        "# Area is extremely skewed therefore, the journal suggest taking the log.\n",
        "# We can see a slight improvement from graph below\n",
        "n, bins, patches = plt.hist(x=df['Log_area'], bins='auto', color='#0504aa',\n",
        "                            alpha=0.7, rwidth=0.85)\n",
        "plt.grid(axis='y', alpha=0.75)\n",
        "plt.xlabel('Value')\n",
        "plt.ylabel('Frequency')\n",
        "plt.title('Area')\n",
        "plt.text(23, 45, r'$\\mu=13, sd=64$')\n",
        "maxfreq = n.max()\n",
        "# Set a clean upper y-axis limit.\n",
        "plt.ylim(ymax=np.ceil(maxfreq / 10) * 10 if maxfreq % 10 else maxfreq + 10)"
      ],
      "metadata": {
        "colab": {
          "base_uri": "https://localhost:8080/",
          "height": 127
        },
        "id": "skb86ncomc5C",
        "outputId": "3b9582de-eb2b-42f8-d9cb-e85bf26bcd3b"
      },
      "execution_count": null,
      "outputs": [
        {
          "output_type": "execute_result",
          "data": {
            "text/plain": [
              "(0.0, 270.0)"
            ]
          },
          "metadata": {},
          "execution_count": 6
        },
        {
          "output_type": "display_data",
          "data": {
            "text/plain": [
              "<Figure size 432x288 with 1 Axes>"
            ],
            "image/png": "[encoded data removed]"
          },
          "metadata": {
            "needs_background": "light"
          }
        }
      ]
    },
    {
      "cell_type": "markdown",
      "source": [
        "**Preprocessing: 1-of-C encoding**"
      ],
      "metadata": {
        "id": "hUym5ANL0t5S"
      }
    },
    {
      "cell_type": "code",
      "source": [
        "#Transformed categorical variables into a 1-of-C encoding\n",
        "df = pd.get_dummies(df, columns=['month', 'day'])"
      ],
      "metadata": {
        "id": "Dn4RhcH3p-OU"
      },
      "execution_count": null,
      "outputs": []
    },
    {
      "cell_type": "markdown",
      "source": [
        "**Preprocessing: All attributes standarised to a zero mean and one standard deviation**"
      ],
      "metadata": {
        "id": "ABRUboFk09Xu"
      }
    },
    {
      "cell_type": "code",
      "source": [
        "# Standardising the dataset for Neural Network and SVM models\n",
        "scaled_features = StandardScaler().fit_transform(df.values)\n",
        "\n",
        "# Creating back the dataframe of the scaled data\n",
        "df_scaled = pd.DataFrame(scaled_features, index=df.index, columns=df.columns)"
      ],
      "metadata": {
        "id": "NsXx9rMC-R7r"
      },
      "execution_count": null,
      "outputs": []
    },
    {
      "cell_type": "markdown",
      "source": [
        "**Same training/test splitting approach as used by the authors.**"
      ],
      "metadata": {
        "id": "zkEQWtUwE7MD"
      }
    },
    {
      "cell_type": "code",
      "source": [
        "#Test set fraction\n",
        "test_size = 0.1\n",
        "\n",
        "#Select the features and target non standardized\n",
        "features=df.drop(['area','Log_area'],axis=1)\n",
        "target=df['Log_area']\n",
        "\n",
        "#Train/test split\n",
        "X_train, X_test, y_train, y_test = train_test_split(features, target, test_size=test_size, random_state=42)"
      ],
      "metadata": {
        "id": "09BPSdFAvi3A"
      },
      "execution_count": null,
      "outputs": []
    },
    {
      "cell_type": "markdown",
      "source": [
        "**Same set of features used by the authors**"
      ],
      "metadata": {
        "id": "aptONz0xEigm"
      }
    },
    {
      "cell_type": "code",
      "source": [
        "#ALL the features used and scaled for NN and SVM\n",
        "\n",
        "#STFWI: Spatial, temporal, and Forest Weather Index\n",
        "STFWI_train = X_train.drop(['temp', 'RH', 'wind', 'rain'],axis=1).copy()\n",
        "STFWI_test = X_test.drop(['temp', 'RH', 'wind', 'rain'],axis=1).copy()\n",
        "\n",
        "#STM: Spatial, temporal, and Meteorological\n",
        "STM_train = X_train.drop(['FFMC', 'DMC', 'DC', 'ISI'],axis=1).copy()\n",
        "STM_test = X_test.drop(['FFMC', 'DMC', 'DC', 'ISI'],axis=1).copy()\n",
        "\n",
        "#FWI: Forest Weather index only\n",
        "FWI_train = X_train[['FFMC', 'DMC', 'DC', 'ISI']].copy()\n",
        "FWI_test = X_test[['FFMC', 'DMC', 'DC', 'ISI']].copy()\n",
        "\n",
        "#M: Meteorological only\n",
        "M_train = X_train[[ 'temp', 'RH', 'wind', 'rain']].copy()\n",
        "M_test = X_test[['temp', 'RH', 'wind', 'rain']].copy()"
      ],
      "metadata": {
        "id": "v7HUZGqZw-Z3"
      },
      "execution_count": null,
      "outputs": []
    },
    {
      "cell_type": "markdown",
      "source": [
        "**same classifier with exact parameter values.**"
      ],
      "metadata": {
        "id": "eMG1lisbEwPf"
      }
    },
    {
      "cell_type": "code",
      "source": [
        "#ALL the models used in the journal\n",
        "nb = BayesianRidge(compute_score=True) # Naive-Bayes default\n",
        "mr = LinearRegression() # Multiple-Regression default\n",
        "dt = DecisionTreeRegressor() # Decision Tree Regressor\n",
        "rf = RandomForestRegressor() # Random Forest default\n",
        "nn = MLPRegressor() # Neural Network\n",
        "svm = SVR(C=3, epsilon=0.2) # SVM Sequential Minimal Optimization algorithm default"
      ],
      "metadata": {
        "id": "Qg5wH0PY1-Ah"
      },
      "execution_count": null,
      "outputs": []
    },
    {
      "cell_type": "markdown",
      "source": [
        "##MODELS AND RMSE##"
      ],
      "metadata": {
        "id": "BYSrJBZJkCBF"
      }
    },
    {
      "cell_type": "markdown",
      "source": [
        "**Naive Bayes Model**"
      ],
      "metadata": {
        "id": "bryTgxugktQf"
      }
    },
    {
      "cell_type": "code",
      "source": [
        "from sklearn.model_selection import cross_val_score\n",
        "from sklearn.model_selection import KFold\n",
        "\n",
        "#Set cross-validation method\n",
        "cv = KFold(n_splits=10, random_state=1, shuffle=True)\n",
        "\n",
        "#K-fold CV to evaluate naive bayes for STFWI\n",
        "nb_scores_STFWI = cross_val_score(nb, STFWI_train, y_train,\n",
        "                         scoring='neg_mean_squared_error', cv=cv, n_jobs=-1)\n",
        "\n",
        "nb_rmse_STFWI = np.sqrt(-nb_scores_STFWI)\n",
        "\n",
        "# RMSE Calculation for Naive Bayes\n",
        "print(\"\\n\\nAverage RMSE STFWI using naive_bayes\")\n",
        "print(mean(nb_rmse_STFWI))\n",
        "\n",
        "#K-fold CV to evaluate naive bayes for STM\n",
        "nb_scores_STM = cross_val_score(nb, STM_train, y_train,\n",
        "                         scoring='neg_mean_squared_error', cv=cv, n_jobs=-1)\n",
        "\n",
        "nb_rmse_STM = np.sqrt(-nb_scores_STM)\n",
        "\n",
        "# RMSE Calculation for Naive Bayes\n",
        "print(\"\\n\\nAverage RMSE STM using naive_bayes\")\n",
        "print(mean(nb_rmse_STM))\n",
        "\n",
        "#K-fold CV to evaluate naive bayes for FWI\n",
        "nb_scores_FWI = cross_val_score(nb, FWI_train, y_train,\n",
        "                         scoring='neg_mean_squared_error', cv=cv, n_jobs=-1)\n",
        "\n",
        "nb_rmse_FWI = np.sqrt(-nb_scores_FWI)\n",
        "\n",
        "# RMSE Calculation for Naive Bayes\n",
        "print(\"\\n\\nAverage RMSE FWI using naive_bayes\")\n",
        "print(mean(nb_rmse_FWI))\n",
        "\n",
        "#K-fold CV to evaluate naive bayes for M\n",
        "nb_scores_M = cross_val_score(nb, M_train, y_train,\n",
        "                         scoring='neg_mean_squared_error', cv=cv, n_jobs=-1)\n",
        "\n",
        "nb_rmse_M = np.sqrt(-nb_scores_M)\n",
        "\n",
        "# RMSE Calculation for Naive Bayes\n",
        "print(\"\\n\\nAverage RMSE M using naive_bayes\")\n",
        "print(mean(nb_rmse_M))"
      ],
      "metadata": {
        "id": "G5byPDo7ViBS",
        "colab": {
          "base_uri": "https://localhost:8080/"
        },
        "outputId": "d3c7275c-661a-4be5-99e3-9faa5d5dcd7d"
      },
      "execution_count": null,
      "outputs": [
        {
          "output_type": "stream",
          "name": "stdout",
          "text": [
            "\n",
            "\n",
            "Average RMSE STFWI using naive_bayes\n",
            "0.5997765311338857\n",
            "\n",
            "\n",
            "Average RMSE STM using naive_bayes\n",
            "0.600853941640458\n",
            "\n",
            "\n",
            "Average RMSE FWI using naive_bayes\n",
            "0.5997806582779842\n",
            "\n",
            "\n",
            "Average RMSE M using naive_bayes\n",
            "0.6008608519124788\n"
          ]
        }
      ]
    },
    {
      "cell_type": "markdown",
      "source": [
        "**Multiple Linear Regression**"
      ],
      "metadata": {
        "id": "CvdanI1kk35P"
      }
    },
    {
      "cell_type": "code",
      "source": [
        "#Set cross-validation method\n",
        "cv = KFold(n_splits=10, random_state=1, shuffle=True)\n",
        "\n",
        "#K-fold CV to evaluate multiple linear regression for STFWI\n",
        "mr_scores_STFWI = cross_val_score(mr, STFWI_train, y_train,\n",
        "                         scoring='neg_mean_squared_error', cv=cv, n_jobs=-1)\n",
        "\n",
        "mr_rmse_STFWI = np.sqrt(-mr_scores_STFWI)\n",
        "\n",
        "# RMSE Calculation for multiple linear regression\n",
        "print(\"\\n\\nAverage RMSE STFWI\")\n",
        "print(mean(mr_rmse_STFWI))\n",
        "\n",
        "#K-fold CV to evaluate multiple linear regression for STM\n",
        "mr_scores_STM = cross_val_score(mr, STM_train, y_train,\n",
        "                         scoring='neg_mean_squared_error', cv=cv, n_jobs=-1)\n",
        "\n",
        "mr_rmse_STM = np.sqrt(-mr_scores_STM)\n",
        "\n",
        "# RMSE Calculation for multiple linear regression\n",
        "print(\"\\n\\nAverage RMSE STM\")\n",
        "print(mean(mr_rmse_STM))\n",
        "\n",
        "#K-fold CV to evaluate multiple linear regression for FWI\n",
        "mr_scores_FWI = cross_val_score(mr, FWI_train, y_train,\n",
        "                         scoring='neg_mean_squared_error', cv=cv, n_jobs=-1)\n",
        "\n",
        "mr_rmse_FWI = np.sqrt(-mr_scores_FWI)\n",
        "\n",
        "# RMSE Calculation for multiple linear regression\n",
        "print(\"\\n\\nAverage RMSE FWI\")\n",
        "print(mean(mr_rmse_FWI))\n",
        "\n",
        "#K-fold CV to evaluate multiple linear regression for M\n",
        "mr_scores_M = cross_val_score(mr, M_train, y_train,\n",
        "                         scoring='neg_mean_squared_error', cv=cv, n_jobs=-1)\n",
        "\n",
        "mr_rmse_M = np.sqrt(-mr_scores_M)\n",
        "\n",
        "# RMSE Calculation for multiple linear regression\n",
        "print(\"\\n\\nAverage RMSE M\")\n",
        "print(mean(mr_rmse_M))"
      ],
      "metadata": {
        "colab": {
          "base_uri": "https://localhost:8080/"
        },
        "id": "0NfBffQJj--q",
        "outputId": "f1b45a09-ba0c-476a-c1d8-66ae4c33c3e8"
      },
      "execution_count": null,
      "outputs": [
        {
          "output_type": "stream",
          "name": "stdout",
          "text": [
            "\n",
            "\n",
            "Average RMSE STFWI\n",
            "0.6050166920436294\n",
            "\n",
            "\n",
            "Average RMSE STM\n",
            "0.6137870473215896\n",
            "\n",
            "\n",
            "Average RMSE FWI\n",
            "0.5997519132259669\n",
            "\n",
            "\n",
            "Average RMSE M\n",
            "0.6118238372825663\n"
          ]
        }
      ]
    },
    {
      "cell_type": "markdown",
      "source": [
        "**Decision tree**"
      ],
      "metadata": {
        "id": "5FOvr8E0oAw9"
      }
    },
    {
      "cell_type": "code",
      "source": [
        "#Set cross-validation method\n",
        "cv = KFold(n_splits=10, random_state=1, shuffle=True)\n",
        "\n",
        "#K-fold CV to evaluate multiple linear regression for STFWI\n",
        "dt_scores_STFWI = cross_val_score(dt, STFWI_train, y_train,\n",
        "                         scoring='neg_mean_squared_error', cv=cv, n_jobs=-1)\n",
        "\n",
        "dt_rmse_STFWI = np.sqrt(-dt_scores_STFWI)\n",
        "\n",
        "# RMSE Calculation for multiple linear regression\n",
        "print(\"\\n\\nAverage RMSE STFWI\")\n",
        "print(mean(dt_rmse_STFWI))\n",
        "\n",
        "#K-fold CV to evaluate multiple linear regression for STM\n",
        "dt_scores_STM = cross_val_score(dt, STM_train, y_train,\n",
        "                         scoring='neg_mean_squared_error', cv=cv, n_jobs=-1)\n",
        "\n",
        "dt_rmse_STM = np.sqrt(-dt_scores_STM)\n",
        "\n",
        "# RMSE Calculation for multiple linear regression\n",
        "print(\"\\n\\nAverage RMSE STM\")\n",
        "print(mean(dt_rmse_STM))\n",
        "\n",
        "#K-fold CV to evaluate multiple linear regression for FWI\n",
        "dt_scores_FWI = cross_val_score(dt, FWI_train, y_train,\n",
        "                         scoring='neg_mean_squared_error', cv=cv, n_jobs=-1)\n",
        "\n",
        "dt_rmse_FWI = np.sqrt(-dt_scores_FWI)\n",
        "\n",
        "# RMSE Calculation for multiple linear regression\n",
        "print(\"\\n\\nAverage RMSE FWI\")\n",
        "print(mean(dt_rmse_FWI))\n",
        "\n",
        "#K-fold CV to evaluate multiple linear regression for M\n",
        "dt_scores_M = cross_val_score(dt, M_train, y_train,\n",
        "                         scoring='neg_mean_squared_error', cv=cv, n_jobs=-1)\n",
        "\n",
        "dt_rmse_M = np.sqrt(-dt_scores_M)\n",
        "\n",
        "# RMSE Calculation for multiple linear regression\n",
        "print(\"\\n\\nAverage RMSE M\")\n",
        "print(mean(dt_rmse_M))"
      ],
      "metadata": {
        "colab": {
          "base_uri": "https://localhost:8080/"
        },
        "id": "cUa8rt89n4tr",
        "outputId": "28575787-4728-405e-ef22-ddd181bafbf1"
      },
      "execution_count": null,
      "outputs": [
        {
          "output_type": "stream",
          "name": "stdout",
          "text": [
            "\n",
            "\n",
            "Average RMSE STFWI\n",
            "0.8074328938392267\n",
            "\n",
            "\n",
            "Average RMSE STM\n",
            "0.8246172280116983\n",
            "\n",
            "\n",
            "Average RMSE FWI\n",
            "0.7415710281579805\n",
            "\n",
            "\n",
            "Average RMSE M\n",
            "0.8673094600018606\n"
          ]
        }
      ]
    },
    {
      "cell_type": "markdown",
      "source": [
        "**Random Forest Model**"
      ],
      "metadata": {
        "id": "5Re1mE7co8ui"
      }
    },
    {
      "cell_type": "code",
      "source": [
        "#Set cross-validation method\n",
        "cv = KFold(n_splits=10, random_state=1, shuffle=True)\n",
        "\n",
        "#K-fold CV to evaluate multiple linear regression for STFWI\n",
        "rf_scores_STFWI = cross_val_score(rf, STFWI_train, y_train,\n",
        "                         scoring='neg_mean_squared_error', cv=cv, n_jobs=-1)\n",
        "\n",
        "rf_rmse_STFWI = np.sqrt(-rf_scores_STFWI)\n",
        "\n",
        "# RMSE Calculation for multiple linear regression\n",
        "print(\"\\n\\nAverage RMSE STFWI\")\n",
        "print(mean(rf_rmse_STFWI))\n",
        "\n",
        "#K-fold CV to evaluate multiple linear regression for STM\n",
        "rf_scores_STM = cross_val_score(rf, STM_train, y_train,\n",
        "                         scoring='neg_mean_squared_error', cv=cv, n_jobs=-1)\n",
        "\n",
        "rf_rmse_STM = np.sqrt(-rf_scores_STM)\n",
        "\n",
        "# RMSE Calculation for multiple linear regression\n",
        "print(\"\\n\\nAverage RMSE STM\")\n",
        "print(mean(rf_rmse_STM))\n",
        "\n",
        "#K-fold CV to evaluate multiple linear regression for FWI\n",
        "rf_scores_FWI = cross_val_score(rf, FWI_train, y_train,\n",
        "                         scoring='neg_mean_squared_error', cv=cv, n_jobs=-1)\n",
        "\n",
        "rf_rmse_FWI = np.sqrt(-rf_scores_FWI)\n",
        "\n",
        "# RMSE Calculation for multiple linear regression\n",
        "print(\"\\n\\nAverage RMSE FWI\")\n",
        "print(mean(rf_rmse_FWI))\n",
        "\n",
        "#K-fold CV to evaluate multiple linear regression for M\n",
        "rf_scores_M = cross_val_score(rf, M_train, y_train,\n",
        "                         scoring='neg_mean_squared_error', cv=cv, n_jobs=-1)\n",
        "\n",
        "rf_rmse_M = np.sqrt(-rf_scores_M)\n",
        "\n",
        "# RMSE Calculation for multiple linear regression\n",
        "print(\"\\n\\nAverage RMSE M\")\n",
        "print(mean(rf_rmse_M))"
      ],
      "metadata": {
        "colab": {
          "base_uri": "https://localhost:8080/"
        },
        "id": "8DblnVH-pCsT",
        "outputId": "85ae917b-fac9-48f1-e667-12fafdd8830a"
      },
      "execution_count": null,
      "outputs": [
        {
          "output_type": "stream",
          "name": "stdout",
          "text": [
            "\n",
            "\n",
            "Average RMSE STFWI\n",
            "0.6423156385107376\n",
            "\n",
            "\n",
            "Average RMSE STM\n",
            "0.6111460507401134\n",
            "\n",
            "\n",
            "Average RMSE FWI\n",
            "0.6717668645844632\n",
            "\n",
            "\n",
            "Average RMSE M\n",
            "0.6417798449600991\n"
          ]
        }
      ]
    },
    {
      "cell_type": "markdown",
      "source": [
        "**Neural Network Model**"
      ],
      "metadata": {
        "id": "Nrj2ZlcRqWQb"
      }
    },
    {
      "cell_type": "code",
      "source": [
        "#Set cross-validation method\n",
        "cv = KFold(n_splits=10, random_state=1, shuffle=True)\n",
        "\n",
        "#K-fold CV to evaluate multiple linear regression for STFWI\n",
        "nn_scores_STFWI = cross_val_score(nn, STFWI_train, y_train,\n",
        "                         scoring='neg_mean_squared_error', cv=cv, n_jobs=-1)\n",
        "\n",
        "nn_rmse_STFWI = np.sqrt(-nn_scores_STFWI)\n",
        "\n",
        "# RMSE Calculation for multiple linear regression\n",
        "print(\"\\n\\nAverage RMSE STFWI\")\n",
        "print(mean(nn_rmse_STFWI))\n",
        "\n",
        "#K-fold CV to evaluate multiple linear regression for STM\n",
        "nn_scores_STM = cross_val_score(nn, STM_train, y_train,\n",
        "                         scoring='neg_mean_squared_error', cv=cv, n_jobs=-1)\n",
        "\n",
        "nn_rmse_STM = np.sqrt(-nn_scores_STM)\n",
        "\n",
        "# RMSE Calculation for multiple linear regression\n",
        "print(\"\\n\\nAverage RMSE STM\")\n",
        "print(mean(nn_rmse_STM))\n",
        "\n",
        "#K-fold CV to evaluate multiple linear regression for FWI\n",
        "nn_scores_FWI = cross_val_score(nn, FWI_train, y_train,\n",
        "                         scoring='neg_mean_squared_error', cv=cv, n_jobs=-1)\n",
        "\n",
        "nn_rmse_FWI = np.sqrt(-nn_scores_FWI)\n",
        "\n",
        "# RMSE Calculation for multiple linear regression\n",
        "print(\"\\n\\nAverage RMSE FWI\")\n",
        "print(mean(nn_rmse_FWI))\n",
        "\n",
        "#K-fold CV to evaluate multiple linear regression for M\n",
        "nn_scores_M = cross_val_score(nn, M_train, y_train,\n",
        "                         scoring='neg_mean_squared_error', cv=cv, n_jobs=-1)\n",
        "\n",
        "nn_rmse_M = np.sqrt(-nn_scores_M)\n",
        "\n",
        "# RMSE Calculation for multiple linear regression\n",
        "print(\"\\n\\nAverage RMSE M\")\n",
        "print(mean(nn_rmse_M))"
      ],
      "metadata": {
        "colab": {
          "base_uri": "https://localhost:8080/"
        },
        "id": "hZsN72SrqPZ5",
        "outputId": "ee041728-a83f-4f7b-c284-67a2dec7bcc0"
      },
      "execution_count": null,
      "outputs": [
        {
          "output_type": "stream",
          "name": "stdout",
          "text": [
            "\n",
            "\n",
            "Average RMSE STFWI\n",
            "0.7794371691311234\n",
            "\n",
            "\n",
            "Average RMSE STM\n",
            "0.6216340175606444\n",
            "\n",
            "\n",
            "Average RMSE FWI\n",
            "0.7032196201269707\n",
            "\n",
            "\n",
            "Average RMSE M\n",
            "0.6276937074247005\n"
          ]
        }
      ]
    },
    {
      "cell_type": "markdown",
      "source": [
        "**Support Vector Machine Model**"
      ],
      "metadata": {
        "id": "0GFBV6Asq5k_"
      }
    },
    {
      "cell_type": "code",
      "source": [
        "#Set cross-validation method\n",
        "cv = KFold(n_splits=10, random_state=1, shuffle=True)\n",
        "\n",
        "#K-fold CV to evaluate multiple linear regression for STFWI\n",
        "svm_scores_STFWI = cross_val_score(svm, STFWI_train, y_train,\n",
        "                         scoring='neg_mean_squared_error', cv=cv, n_jobs=-1)\n",
        "\n",
        "svm_rmse_STFWI = np.sqrt(-svm_scores_STFWI)\n",
        "\n",
        "# RMSE Calculation for multiple linear regression\n",
        "print(\"\\n\\nAverage RMSE STFWI\")\n",
        "print(mean(svm_rmse_STFWI))\n",
        "\n",
        "#K-fold CV to evaluate multiple linear regression for STM\n",
        "svm_scores_STM = cross_val_score(svm, STM_train, y_train,\n",
        "                         scoring='neg_mean_squared_error', cv=cv, n_jobs=-1)\n",
        "\n",
        "svm_rmse_STM = np.sqrt(-svm_scores_STM)\n",
        "\n",
        "# RMSE Calculation for multiple linear regression\n",
        "print(\"\\n\\nAverage RMSE STM\")\n",
        "print(mean(svm_rmse_STM))\n",
        "\n",
        "#K-fold CV to evaluate multiple linear regression for FWI\n",
        "svm_scores_FWI = cross_val_score(svm, FWI_train, y_train,\n",
        "                         scoring='neg_mean_squared_error', cv=cv, n_jobs=-1)\n",
        "\n",
        "svm_rmse_FWI = np.sqrt(-svm_scores_FWI)\n",
        "\n",
        "# RMSE Calculation for multiple linear regression\n",
        "print(\"\\n\\nAverage RMSE FWI\")\n",
        "print(mean(svm_rmse_FWI))\n",
        "\n",
        "#K-fold CV to evaluate multiple linear regression for M\n",
        "svm_scores_M = cross_val_score(svm, M_train, y_train,\n",
        "                         scoring='neg_mean_squared_error', cv=cv, n_jobs=-1)\n",
        "\n",
        "svm_rmse_M = np.sqrt(-svm_scores_M)\n",
        "\n",
        "# RMSE Calculation for multiple linear regression\n",
        "print(\"\\n\\nAverage RMSE M\")\n",
        "print(mean(svm_rmse_M))"
      ],
      "metadata": {
        "colab": {
          "base_uri": "https://localhost:8080/"
        },
        "id": "zPl9iJp0q5Ie",
        "outputId": "00e23dfe-1d94-4652-b933-4c4a31bba772"
      },
      "execution_count": null,
      "outputs": [
        {
          "output_type": "stream",
          "name": "stdout",
          "text": [
            "\n",
            "\n",
            "Average RMSE STFWI\n",
            "0.650380828990238\n",
            "\n",
            "\n",
            "Average RMSE STM\n",
            "0.6298718725500658\n",
            "\n",
            "\n",
            "Average RMSE FWI\n",
            "0.6489701225295974\n",
            "\n",
            "\n",
            "Average RMSE M\n",
            "0.6264789474086352\n"
          ]
        }
      ]
    },
    {
      "cell_type": "markdown",
      "source": [
        "**Postprocessing**"
      ],
      "metadata": {
        "id": "071s7k2wop8R"
      }
    },
    {
      "cell_type": "code",
      "source": [
        "import matplotlib.pyplot as plt\n",
        "# Naive Bayes Regressor STFWI\n",
        "\n",
        "# Training using Naive Bayes Regressor\n",
        "nb.fit(STFWI_train, y_train)\n",
        "# Testing using Naive Bayes Regressor\n",
        "predictions_nb_one = nb.predict(STFWI_test)\n",
        "\n",
        "plt.xlabel(\"Actual area burned\")\n",
        "plt.ylabel(\"Error\")\n",
        "plt.grid(True)\n",
        "plt.scatter(10**(y_test),10**(predictions_nb_one.reshape(predictions_nb_one.size,))-10**(y_test))"
      ],
      "metadata": {
        "colab": {
          "base_uri": "https://localhost:8080/",
          "height": 296
        },
        "id": "65rONrQhoL2a",
        "outputId": "022c758f-b434-478a-ecd8-f459ad249ea6"
      },
      "execution_count": null,
      "outputs": [
        {
          "output_type": "execute_result",
          "data": {
            "text/plain": [
              "<matplotlib.collections.PathCollection at 0x7f013b4c18d0>"
            ]
          },
          "metadata": {},
          "execution_count": 21
        },
        {
          "output_type": "display_data",
          "data": {
            "text/plain": [
              "<Figure size 432x288 with 1 Axes>"
            ],
            "image/png": "[encoded data removed]"
          },
          "metadata": {
            "needs_background": "light"
          }
        }
      ]
    },
    {
      "cell_type": "code",
      "source": [
        "import matplotlib.pyplot as plt\n",
        "# Multiple Regressor STFWI\n",
        "\n",
        "# Training Regressor\n",
        "mr.fit(STFWI_train, y_train)\n",
        "# Testing Regressor\n",
        "predictions_mr_one = mr.predict(STFWI_test)\n",
        "\n",
        "plt.xlabel(\"Actual area burned\")\n",
        "plt.ylabel(\"Error\")\n",
        "plt.grid(True)\n",
        "plt.scatter(10**(y_test),10**(predictions_mr_one.reshape(predictions_mr_one.size,))-10**(y_test))"
      ],
      "metadata": {
        "colab": {
          "base_uri": "https://localhost:8080/",
          "height": 296
        },
        "id": "lZYXLjMFo0cY",
        "outputId": "7c82090f-ea0f-44e4-f8cd-825b10c0359a"
      },
      "execution_count": null,
      "outputs": [
        {
          "output_type": "execute_result",
          "data": {
            "text/plain": [
              "<matplotlib.collections.PathCollection at 0x7f0136401810>"
            ]
          },
          "metadata": {},
          "execution_count": 22
        },
        {
          "output_type": "display_data",
          "data": {
            "text/plain": [
              "<Figure size 432x288 with 1 Axes>"
            ],
            "image/png": "[encoded data removed]"
          },
          "metadata": {
            "needs_background": "light"
          }
        }
      ]
    },
    {
      "cell_type": "code",
      "source": [
        "import matplotlib.pyplot as plt\n",
        "#Decision Tree Regressor STFWI\n",
        "\n",
        "# Training Regressor\n",
        "dt.fit(STFWI_train, y_train)\n",
        "# Testing Regressor\n",
        "predictions_dt_one = mr.predict(STFWI_test)\n",
        "\n",
        "plt.xlabel(\"Actual area burned\")\n",
        "plt.ylabel(\"Error\")\n",
        "plt.grid(True)\n",
        "plt.scatter(10**(y_test),10**(predictions_dt_one.reshape(predictions_dt_one.size,))-10**(y_test))"
      ],
      "metadata": {
        "colab": {
          "base_uri": "https://localhost:8080/",
          "height": 296
        },
        "id": "k8qS_8tOcUuN",
        "outputId": "a3c6c0d3-5793-4485-e1c7-040aa4e22dfd"
      },
      "execution_count": null,
      "outputs": [
        {
          "output_type": "execute_result",
          "data": {
            "text/plain": [
              "<matplotlib.collections.PathCollection at 0x7f0135e394d0>"
            ]
          },
          "metadata": {},
          "execution_count": 23
        },
        {
          "output_type": "display_data",
          "data": {
            "text/plain": [
              "<Figure size 432x288 with 1 Axes>"
            ],
            "image/png": "[encoded data removed]"
          },
          "metadata": {
            "needs_background": "light"
          }
        }
      ]
    },
    {
      "cell_type": "code",
      "source": [
        "import matplotlib.pyplot as plt\n",
        "#Random Forest Regressor STFWI\n",
        "\n",
        "# Training Regressor\n",
        "rf.fit(STFWI_train, y_train)\n",
        "# Testing Regressor\n",
        "predictions_rf_one = rf.predict(STFWI_test)\n",
        "\n",
        "plt.xlabel(\"Actual area burned\")\n",
        "plt.ylabel(\"Error\")\n",
        "plt.grid(True)\n",
        "plt.scatter(10**(y_test),10**(predictions_rf_one.reshape(predictions_rf_one.size,))-10**(y_test))"
      ],
      "metadata": {
        "colab": {
          "base_uri": "https://localhost:8080/",
          "height": 296
        },
        "id": "SmsnYblqcvqs",
        "outputId": "b4901975-d4ac-42b0-d442-44c7d3a11454"
      },
      "execution_count": null,
      "outputs": [
        {
          "output_type": "execute_result",
          "data": {
            "text/plain": [
              "<matplotlib.collections.PathCollection at 0x7f0135d6a090>"
            ]
          },
          "metadata": {},
          "execution_count": 24
        },
        {
          "output_type": "display_data",
          "data": {
            "text/plain": [
              "<Figure size 432x288 with 1 Axes>"
            ],
            "image/png": "[encoded data removed]"
          },
          "metadata": {
            "needs_background": "light"
          }
        }
      ]
    },
    {
      "cell_type": "code",
      "source": [
        "import matplotlib.pyplot as plt\n",
        "#Neural Network Regressor STFWI\n",
        "\n",
        "# Training Regressor\n",
        "nn.fit(STFWI_train, y_train)\n",
        "# Testing Regressor\n",
        "predictions_nn_one = nn.predict(STFWI_test)\n",
        "\n",
        "plt.xlabel(\"Actual area burned\")\n",
        "plt.ylabel(\"Error\")\n",
        "plt.grid(True)\n",
        "plt.scatter(10**(y_test),10**(predictions_nn_one.reshape(predictions_nn_one.size,))-10**(y_test))"
      ],
      "metadata": {
        "colab": {
          "base_uri": "https://localhost:8080/",
          "height": 296
        },
        "id": "JiJt2wTudIN7",
        "outputId": "f4886b43-d004-4d4b-b6f2-7af84ad3525a"
      },
      "execution_count": null,
      "outputs": [
        {
          "output_type": "execute_result",
          "data": {
            "text/plain": [
              "<matplotlib.collections.PathCollection at 0x7f0135bf6190>"
            ]
          },
          "metadata": {},
          "execution_count": 25
        },
        {
          "output_type": "display_data",
          "data": {
            "text/plain": [
              "<Figure size 432x288 with 1 Axes>"
            ],
            "image/png": "[encoded data removed]"
          },
          "metadata": {
            "needs_background": "light"
          }
        }
      ]
    },
    {
      "cell_type": "code",
      "source": [
        "import matplotlib.pyplot as plt\n",
        "#SVM Regressor STFWI\n",
        "\n",
        "# Training Regressor\n",
        "svm.fit(STFWI_train, y_train)\n",
        "# Testing Regressor\n",
        "predictions_svm_one = svm.predict(STFWI_test)\n",
        "\n",
        "plt.xlabel(\"Actual area burned\")\n",
        "plt.ylabel(\"Error\")\n",
        "plt.grid(True)\n",
        "plt.scatter(10**(y_test),10**(predictions_svm_one.reshape(predictions_svm_one.size,))-10**(y_test))"
      ],
      "metadata": {
        "colab": {
          "base_uri": "https://localhost:8080/",
          "height": 296
        },
        "id": "nb98_HcVdoVj",
        "outputId": "85de2ab7-6f74-40a1-cbd0-25e379b4aed6"
      },
      "execution_count": null,
      "outputs": [
        {
          "output_type": "execute_result",
          "data": {
            "text/plain": [
              "<matplotlib.collections.PathCollection at 0x7f0135bf6090>"
            ]
          },
          "metadata": {},
          "execution_count": 26
        },
        {
          "output_type": "display_data",
          "data": {
            "text/plain": [
              "<Figure size 432x288 with 1 Axes>"
            ],
            "image/png": "[encoded data removed]"
          },
          "metadata": {
            "needs_background": "light"
          }
        }
      ]
    },
    {
      "cell_type": "markdown",
      "source": [
        "**Task 2**"
      ],
      "metadata": {
        "id": "61tKewAZnpOf"
      }
    },
    {
      "cell_type": "markdown",
      "source": [
        "Design and develop your own ML solution for this problem."
      ],
      "metadata": {
        "id": "qp6Vg_5vjZtN"
      }
    },
    {
      "cell_type": "markdown",
      "source": [
        "**Features Selection**"
      ],
      "metadata": {
        "id": "Q1wuHQh_fL3j"
      }
    },
    {
      "cell_type": "code",
      "source": [
        "import seaborn as sns\n",
        "\n",
        "#Load forest fire dataset\n",
        "df = pd.read_csv('/content/forestfires.csv')\n",
        "\n",
        "#First method of feature importance using Pearson Correlation\n",
        "plt.figure(figsize=(12,10))\n",
        "cor = df.corr()\n",
        "sns.heatmap(cor, annot=True, cmap=plt.cm.viridis)\n",
        "plt.savefig('correlation.pdf')\n",
        "plt.show()"
      ],
      "metadata": {
        "colab": {
          "base_uri": "https://localhost:8080/",
          "height": 596
        },
        "id": "z6mZcnVcfK_9",
        "outputId": "c5cb18df-71d9-4509-dcf1-6e9cbdf41bab"
      },
      "execution_count": null,
      "outputs": [
        {
          "output_type": "display_data",
          "data": {
            "text/plain": [
              "<Figure size 864x720 with 2 Axes>"
            ],
            "image/png": "[encoded data removed]"
          },
          "metadata": {
            "needs_background": "light"
          }
        }
      ]
    },
    {
      "cell_type": "code",
      "source": [
        "from sklearn.ensemble import AdaBoostRegressor\n",
        "\n",
        "#Set cross-validation method\n",
        "cv = KFold(n_splits=10, random_state=1, shuffle=True)\n",
        "\n",
        "reg = AdaBoostRegressor(DecisionTreeRegressor(max_depth=1),loss='exponential',learning_rate=0.01)\n",
        "ada_scores = cross_val_score(reg, X_train, y_train,\n",
        "                         scoring='neg_mean_squared_error', cv=cv, n_jobs=-1)\n",
        "# RMSE Calculation regression\n",
        "ada_rmse = np.sqrt(-ada_scores)\n",
        "\n",
        "# Average RMSE Calculation regression\n",
        "print(\"\\n\\nAverage RMSE\")\n",
        "print(mean(ada_rmse))"
      ],
      "metadata": {
        "id": "EBnsX0eobxlQ",
        "colab": {
          "base_uri": "https://localhost:8080/"
        },
        "outputId": "fc1c7942-7fef-40c5-ae71-80a3141e169f"
      },
      "execution_count": null,
      "outputs": [
        {
          "output_type": "stream",
          "name": "stdout",
          "text": [
            "\n",
            "\n",
            "Average RMSE\n",
            "0.5989795662357938\n"
          ]
        }
      ]
    }
  ]
}